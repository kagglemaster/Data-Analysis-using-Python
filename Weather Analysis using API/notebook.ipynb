{
 "cells": [
  {
   "cell_type": "markdown",
   "id": "037b8791",
   "metadata": {
    "id": "3WNHpucWWlNo",
    "papermill": {
     "duration": 0.025894,
     "end_time": "2024-09-16T15:33:40.729640",
     "exception": false,
     "start_time": "2024-09-16T15:33:40.703746",
     "status": "completed"
    },
    "tags": []
   },
   "source": [
    "<img src=\"pk.jpeg\" alt=\"Image description\" width=\"500\" height=\"500\">"
   ]
  },
  {
   "cell_type": "markdown",
   "id": "c8d30c7f",
   "metadata": {
    "id": "EnEm1tkuWrH0",
    "papermill": {
     "duration": 0.024595,
     "end_time": "2024-09-16T15:33:40.779632",
     "exception": false,
     "start_time": "2024-09-16T15:33:40.755037",
     "status": "completed"
    },
    "tags": []
   },
   "source": [
    "# **Project: Weather Real-Time Pakistan Cities Data Analysis**\n",
    "\n",
    "## **Part 1: Data Scraping (Data Collection using OpenWeather API)**\n",
    "- Use the OpenWeather API to collect real-time weather data for cities in Pakistan.\n",
    "- Gather details such as temperature, humidity, wind speed, cloudiness, and description.\n",
    "\n",
    "## **Part 2: Data Exploration**\n",
    "- Perform initial data exploration to understand the features.\n",
    "- Analyze summary statistics for numerical and categorical variables.\n",
    "\n",
    "## **Part 3: Data Cleaning**\n",
    "- Handle missing (e.g., fill missing values, drop duplicates).\n",
    "- Convert columns (e.g., `Sunrise`, `Sunset`) to appropriate data types.\n",
    "- Normalize column names and ensure data consistency.\n",
    "\n",
    "## **Part 4: Exploratory Data Analysis (EDA)**\n",
    "- Analyze the distribution of numerical variables (e.g., temperature, humidity).\n",
    "- Explore correlations between features.\n",
    "- Investigate outliers and patterns in the dataset.\n",
    "- Group and compare cities based on weather conditions.\n",
    "\n",
    "## **Part 5: Data Visualization Using Seaborn and Matplotlib**\n",
    "- Create visualizations such as histograms, scatterplots, boxplots, and heatmaps.\n",
    "- Plot trends in weather conditions across cities.\n",
    "- Visualize relationships between variables (e.g., temperature vs. humidity, cloudiness vs. wind speed).\n",
    "\n",
    "`Note: This structure provides a clear breakdown of the steps involved in your project.`"
   ]
  },
  {
   "cell_type": "markdown",
   "id": "fec235ed",
   "metadata": {
    "id": "dxaqf_cyW9zy",
    "papermill": {
     "duration": 0.024522,
     "end_time": "2024-09-16T15:33:40.831630",
     "exception": false,
     "start_time": "2024-09-16T15:33:40.807108",
     "status": "completed"
    },
    "tags": []
   },
   "source": [
    "# Part 1"
   ]
  },
  {
   "cell_type": "code",
   "execution_count": 1,
   "id": "da8d9faf",
   "metadata": {
    "execution": {
     "iopub.execute_input": "2024-09-16T15:33:40.933188Z",
     "iopub.status.busy": "2024-09-16T15:33:40.932766Z",
     "iopub.status.idle": "2024-09-16T15:33:43.197352Z",
     "shell.execute_reply": "2024-09-16T15:33:43.196404Z"
    },
    "id": "HMIAdtyuW3OF",
    "papermill": {
     "duration": 2.294267,
     "end_time": "2024-09-16T15:33:43.200047",
     "exception": false,
     "start_time": "2024-09-16T15:33:40.905780",
     "status": "completed"
    },
    "tags": []
   },
   "outputs": [],
   "source": [
    "import pandas as pd\n",
    "import matplotlib.pyplot as plt\n",
    "import seaborn as sns\n",
    "import requests\n",
    "from datetime import datetime\n",
    "import warnings\n",
    "warnings.filterwarnings(\"ignore\")"
   ]
  },
  {
   "cell_type": "markdown",
   "id": "b919247f",
   "metadata": {},
   "source": [
    "### *Downloading and loading Pakistan's cities data from Kaggle*"
   ]
  },
  {
   "cell_type": "code",
   "execution_count": 2,
   "id": "72bc0bdc",
   "metadata": {
    "execution": {
     "iopub.execute_input": "2024-09-16T15:33:43.301131Z",
     "iopub.status.busy": "2024-09-16T15:33:43.300526Z",
     "iopub.status.idle": "2024-09-16T15:33:43.338210Z",
     "shell.execute_reply": "2024-09-16T15:33:43.337082Z"
    },
    "id": "gnDMLS1mYKOZ",
    "outputId": "9528f9b4-05dc-4020-ba6f-e6461dea2f39",
    "papermill": {
     "duration": 0.066573,
     "end_time": "2024-09-16T15:33:43.340727",
     "exception": false,
     "start_time": "2024-09-16T15:33:43.274154",
     "status": "completed"
    },
    "tags": []
   },
   "outputs": [
    {
     "name": "stdout",
     "output_type": "stream",
     "text": [
      "Skipping, found downloaded files in \".\\pakistan-cities-csv\" (use force=True to force download)\n"
     ]
    }
   ],
   "source": [
    "import opendatasets as od\n",
    "od.download(\"https://www.kaggle.com/datasets/muhammadadeel5953/pakistan-cities-csv\")"
   ]
  },
  {
   "cell_type": "code",
   "execution_count": 3,
   "id": "db74e6af",
   "metadata": {},
   "outputs": [
    {
     "data": {
      "text/html": [
       "<div>\n",
       "<style scoped>\n",
       "    .dataframe tbody tr th:only-of-type {\n",
       "        vertical-align: middle;\n",
       "    }\n",
       "\n",
       "    .dataframe tbody tr th {\n",
       "        vertical-align: top;\n",
       "    }\n",
       "\n",
       "    .dataframe thead th {\n",
       "        text-align: right;\n",
       "    }\n",
       "</style>\n",
       "<table border=\"1\" class=\"dataframe\">\n",
       "  <thead>\n",
       "    <tr style=\"text-align: right;\">\n",
       "      <th></th>\n",
       "      <th>City</th>\n",
       "      <th>Province</th>\n",
       "      <th>Country</th>\n",
       "    </tr>\n",
       "  </thead>\n",
       "  <tbody>\n",
       "    <tr>\n",
       "      <th>127</th>\n",
       "      <td>Qila Saifullah</td>\n",
       "      <td>Balochistan</td>\n",
       "      <td>Pakistan</td>\n",
       "    </tr>\n",
       "    <tr>\n",
       "      <th>17</th>\n",
       "      <td>Matiari</td>\n",
       "      <td>Sindh</td>\n",
       "      <td>Pakistan</td>\n",
       "    </tr>\n",
       "    <tr>\n",
       "      <th>68</th>\n",
       "      <td>Kahror Pakka</td>\n",
       "      <td>Punjab</td>\n",
       "      <td>Pakistan</td>\n",
       "    </tr>\n",
       "    <tr>\n",
       "      <th>106</th>\n",
       "      <td>Shergarh</td>\n",
       "      <td>Khyber Pakhtunkhwa</td>\n",
       "      <td>Pakistan</td>\n",
       "    </tr>\n",
       "    <tr>\n",
       "      <th>3</th>\n",
       "      <td>Larkana</td>\n",
       "      <td>Sindh</td>\n",
       "      <td>Pakistan</td>\n",
       "    </tr>\n",
       "    <tr>\n",
       "      <th>61</th>\n",
       "      <td>Hafizabad</td>\n",
       "      <td>Punjab</td>\n",
       "      <td>Pakistan</td>\n",
       "    </tr>\n",
       "    <tr>\n",
       "      <th>36</th>\n",
       "      <td>Sann</td>\n",
       "      <td>Sindh</td>\n",
       "      <td>Pakistan</td>\n",
       "    </tr>\n",
       "    <tr>\n",
       "      <th>113</th>\n",
       "      <td>Zhob</td>\n",
       "      <td>Balochistan</td>\n",
       "      <td>Pakistan</td>\n",
       "    </tr>\n",
       "    <tr>\n",
       "      <th>115</th>\n",
       "      <td>Lasbela</td>\n",
       "      <td>Balochistan</td>\n",
       "      <td>Pakistan</td>\n",
       "    </tr>\n",
       "    <tr>\n",
       "      <th>26</th>\n",
       "      <td>Pano Aqil</td>\n",
       "      <td>Sindh</td>\n",
       "      <td>Pakistan</td>\n",
       "    </tr>\n",
       "  </tbody>\n",
       "</table>\n",
       "</div>"
      ],
      "text/plain": [
       "               City            Province   Country\n",
       "127  Qila Saifullah         Balochistan  Pakistan\n",
       "17          Matiari               Sindh  Pakistan\n",
       "68     Kahror Pakka              Punjab  Pakistan\n",
       "106        Shergarh  Khyber Pakhtunkhwa  Pakistan\n",
       "3           Larkana               Sindh  Pakistan\n",
       "61        Hafizabad              Punjab  Pakistan\n",
       "36             Sann               Sindh  Pakistan\n",
       "113            Zhob         Balochistan  Pakistan\n",
       "115         Lasbela         Balochistan  Pakistan\n",
       "26        Pano Aqil               Sindh  Pakistan"
      ]
     },
     "execution_count": 3,
     "metadata": {},
     "output_type": "execute_result"
    }
   ],
   "source": [
    "cities = pd.read_csv(\"pakistan-cities-csv\\pakistan_cities.csv\")\n",
    "cities.sample(10)"
   ]
  },
  {
   "cell_type": "code",
   "execution_count": 4,
   "id": "396a4907",
   "metadata": {},
   "outputs": [
    {
     "data": {
      "text/plain": [
       "(147, 3)"
      ]
     },
     "execution_count": 4,
     "metadata": {},
     "output_type": "execute_result"
    }
   ],
   "source": [
    "cities.shape"
   ]
  },
  {
   "cell_type": "markdown",
   "id": "807ce5bc",
   "metadata": {
    "papermill": {
     "duration": 0.024358,
     "end_time": "2024-09-16T15:33:43.249465",
     "exception": false,
     "start_time": "2024-09-16T15:33:43.225107",
     "status": "completed"
    },
    "tags": []
   },
   "source": [
    "### *Use the OpenWeather API to collect real-time weather data for cities in Pakistan.*"
   ]
  },
  {
   "cell_type": "markdown",
   "id": "f2ea2e12",
   "metadata": {},
   "source": [
    "[OpenWeather API](https://openweathermap.org/api) ⬅️ Click here"
   ]
  },
  {
   "cell_type": "code",
   "execution_count": 5,
   "id": "afd7a35a",
   "metadata": {
    "execution": {
     "iopub.execute_input": "2024-09-16T15:33:43.445216Z",
     "iopub.status.busy": "2024-09-16T15:33:43.444245Z",
     "iopub.status.idle": "2024-09-16T15:34:15.372316Z",
     "shell.execute_reply": "2024-09-16T15:34:15.371183Z"
    },
    "papermill": {
     "duration": 31.957519,
     "end_time": "2024-09-16T15:34:15.375092",
     "exception": false,
     "start_time": "2024-09-16T15:33:43.417573",
     "status": "completed"
    },
    "tags": []
   },
   "outputs": [],
   "source": [
    "weather = []\n",
    "for index, val in cities.iterrows():\n",
    "    city_name = val['City']\n",
    "    country_name = val['Country']\n",
    "    province = val['Province']\n",
    "    url = f\"http://api.openweathermap.org/data/2.5/weather?q={city_name}&appid=3246c725e45e00883f6ff17837aa186e&units=metric\"\n",
    "    response = requests.get(url)\n",
    "    \n",
    "    if response.status_code == 200:\n",
    "        \n",
    "        temp = response.json()[\"main\"][\"temp\"]\n",
    "        feels_like = response.json()[\"main\"][\"feels_like\"]\n",
    "        temp_min = response.json()[\"main\"][\"temp_min\"]\n",
    "        temp_max = response.json()[\"main\"][\"temp_max\"]\n",
    "        pressure = response.json()[\"main\"][\"pressure\"]\n",
    "        humidity = response.json()[\"main\"][\"humidity\"]\n",
    "        wind_speed = response.json()[\"wind\"][\"speed\"]\n",
    "        descrip = response.json()[\"weather\"][0][\"description\"]\n",
    "        clouds = response.json()[\"clouds\"][\"all\"]\n",
    "        lon = response.json()[\"coord\"][\"lon\"]\n",
    "        lat = response.json()[\"coord\"][\"lat\"]\n",
    "        sunrise_unix = response.json()['sys']['sunrise']\n",
    "        sunset_unix = response.json()['sys']['sunset']\n",
    "        \n",
    "        # Convert Unix timestamps to human-readable format\n",
    "        sunrise = datetime.fromtimestamp(sunrise_unix).strftime('%I:%M %p')\n",
    "        sunset = datetime.fromtimestamp(sunset_unix).strftime('%I:%M %p')\n",
    "    \n",
    "        \n",
    "        weather.append({\n",
    "            \"Country\": country_name,\n",
    "            \"Province\": province,\n",
    "            \"City\": city_name,\n",
    "            \"Temperature\": temp,\n",
    "            \"Feels_Like\": feels_like,\n",
    "            'Min_Temp': temp_min,\n",
    "            'Max_Temp': temp_max,\n",
    "            'Humidity': humidity,\n",
    "            'Pressure': pressure,\n",
    "            'Wind_Speed': wind_speed,\n",
    "            'Cloudiness': clouds,\n",
    "            'Description': descrip.title(),\n",
    "            'Longitude': lon,\n",
    "            'Latitude': lat,\n",
    "            'Sunrise': sunrise,\n",
    "            'Sunset': sunset\n",
    "        })\n",
    "    else:\n",
    "        continue"
   ]
  },
  {
   "cell_type": "code",
   "execution_count": 6,
   "id": "9e059e22",
   "metadata": {},
   "outputs": [],
   "source": [
    "weather_df = pd.DataFrame(weather)"
   ]
  },
  {
   "cell_type": "markdown",
   "id": "1fc42e84",
   "metadata": {
    "id": "5gJUobUBTtMb",
    "papermill": {
     "duration": 0.025304,
     "end_time": "2024-09-16T15:34:15.583840",
     "exception": false,
     "start_time": "2024-09-16T15:34:15.558536",
     "status": "completed"
    },
    "tags": []
   },
   "source": [
    "# Part 2"
   ]
  },
  {
   "cell_type": "markdown",
   "id": "bcefa3f4",
   "metadata": {
    "id": "mnHYlleqTrtg",
    "papermill": {
     "duration": 0.02605,
     "end_time": "2024-09-16T15:34:15.725504",
     "exception": false,
     "start_time": "2024-09-16T15:34:15.699454",
     "status": "completed"
    },
    "tags": []
   },
   "source": [
    "### Overview of the structure of the data"
   ]
  },
  {
   "cell_type": "code",
   "execution_count": 7,
   "id": "4de9cd03",
   "metadata": {},
   "outputs": [
    {
     "data": {
      "text/html": [
       "<div>\n",
       "<style scoped>\n",
       "    .dataframe tbody tr th:only-of-type {\n",
       "        vertical-align: middle;\n",
       "    }\n",
       "\n",
       "    .dataframe tbody tr th {\n",
       "        vertical-align: top;\n",
       "    }\n",
       "\n",
       "    .dataframe thead th {\n",
       "        text-align: right;\n",
       "    }\n",
       "</style>\n",
       "<table border=\"1\" class=\"dataframe\">\n",
       "  <thead>\n",
       "    <tr style=\"text-align: right;\">\n",
       "      <th></th>\n",
       "      <th>Country</th>\n",
       "      <th>Province</th>\n",
       "      <th>City</th>\n",
       "      <th>Temperature</th>\n",
       "      <th>Feels_Like</th>\n",
       "      <th>Min_Temp</th>\n",
       "      <th>Max_Temp</th>\n",
       "      <th>Humidity</th>\n",
       "      <th>Pressure</th>\n",
       "      <th>Wind_Speed</th>\n",
       "      <th>Cloudiness</th>\n",
       "      <th>Description</th>\n",
       "      <th>Longitude</th>\n",
       "      <th>Latitude</th>\n",
       "      <th>Sunrise</th>\n",
       "      <th>Sunset</th>\n",
       "    </tr>\n",
       "  </thead>\n",
       "  <tbody>\n",
       "    <tr>\n",
       "      <th>48</th>\n",
       "      <td>Pakistan</td>\n",
       "      <td>Punjab</td>\n",
       "      <td>Chiniot</td>\n",
       "      <td>30.71</td>\n",
       "      <td>30.82</td>\n",
       "      <td>30.71</td>\n",
       "      <td>30.71</td>\n",
       "      <td>42</td>\n",
       "      <td>1004</td>\n",
       "      <td>2.10</td>\n",
       "      <td>2</td>\n",
       "      <td>Clear Sky</td>\n",
       "      <td>72.9789</td>\n",
       "      <td>31.7200</td>\n",
       "      <td>05:56 AM</td>\n",
       "      <td>06:05 PM</td>\n",
       "    </tr>\n",
       "    <tr>\n",
       "      <th>17</th>\n",
       "      <td>Pakistan</td>\n",
       "      <td>Sindh</td>\n",
       "      <td>Ghotki</td>\n",
       "      <td>32.90</td>\n",
       "      <td>32.33</td>\n",
       "      <td>32.90</td>\n",
       "      <td>32.90</td>\n",
       "      <td>33</td>\n",
       "      <td>1003</td>\n",
       "      <td>1.37</td>\n",
       "      <td>0</td>\n",
       "      <td>Clear Sky</td>\n",
       "      <td>69.3161</td>\n",
       "      <td>28.0060</td>\n",
       "      <td>06:11 AM</td>\n",
       "      <td>06:19 PM</td>\n",
       "    </tr>\n",
       "    <tr>\n",
       "      <th>66</th>\n",
       "      <td>Pakistan</td>\n",
       "      <td>Punjab</td>\n",
       "      <td>Shorkot</td>\n",
       "      <td>33.34</td>\n",
       "      <td>33.10</td>\n",
       "      <td>33.34</td>\n",
       "      <td>33.34</td>\n",
       "      <td>34</td>\n",
       "      <td>1003</td>\n",
       "      <td>2.50</td>\n",
       "      <td>0</td>\n",
       "      <td>Clear Sky</td>\n",
       "      <td>70.8774</td>\n",
       "      <td>31.9099</td>\n",
       "      <td>06:04 AM</td>\n",
       "      <td>06:13 PM</td>\n",
       "    </tr>\n",
       "    <tr>\n",
       "      <th>51</th>\n",
       "      <td>Pakistan</td>\n",
       "      <td>Punjab</td>\n",
       "      <td>Khushab</td>\n",
       "      <td>29.75</td>\n",
       "      <td>30.13</td>\n",
       "      <td>29.75</td>\n",
       "      <td>29.75</td>\n",
       "      <td>46</td>\n",
       "      <td>1005</td>\n",
       "      <td>3.03</td>\n",
       "      <td>0</td>\n",
       "      <td>Clear Sky</td>\n",
       "      <td>72.3525</td>\n",
       "      <td>32.2967</td>\n",
       "      <td>05:58 AM</td>\n",
       "      <td>06:07 PM</td>\n",
       "    </tr>\n",
       "    <tr>\n",
       "      <th>57</th>\n",
       "      <td>Pakistan</td>\n",
       "      <td>Punjab</td>\n",
       "      <td>Pattoki</td>\n",
       "      <td>29.01</td>\n",
       "      <td>29.80</td>\n",
       "      <td>29.01</td>\n",
       "      <td>29.01</td>\n",
       "      <td>51</td>\n",
       "      <td>1005</td>\n",
       "      <td>1.86</td>\n",
       "      <td>6</td>\n",
       "      <td>Clear Sky</td>\n",
       "      <td>73.8500</td>\n",
       "      <td>31.0167</td>\n",
       "      <td>05:52 AM</td>\n",
       "      <td>06:01 PM</td>\n",
       "    </tr>\n",
       "    <tr>\n",
       "      <th>10</th>\n",
       "      <td>Pakistan</td>\n",
       "      <td>Sindh</td>\n",
       "      <td>Khairpur</td>\n",
       "      <td>32.43</td>\n",
       "      <td>34.18</td>\n",
       "      <td>32.43</td>\n",
       "      <td>32.43</td>\n",
       "      <td>46</td>\n",
       "      <td>1004</td>\n",
       "      <td>4.31</td>\n",
       "      <td>2</td>\n",
       "      <td>Clear Sky</td>\n",
       "      <td>68.7617</td>\n",
       "      <td>27.5295</td>\n",
       "      <td>06:13 AM</td>\n",
       "      <td>06:21 PM</td>\n",
       "    </tr>\n",
       "    <tr>\n",
       "      <th>21</th>\n",
       "      <td>Pakistan</td>\n",
       "      <td>Sindh</td>\n",
       "      <td>Samaro</td>\n",
       "      <td>27.49</td>\n",
       "      <td>29.71</td>\n",
       "      <td>27.49</td>\n",
       "      <td>27.49</td>\n",
       "      <td>70</td>\n",
       "      <td>1006</td>\n",
       "      <td>7.67</td>\n",
       "      <td>4</td>\n",
       "      <td>Clear Sky</td>\n",
       "      <td>69.3965</td>\n",
       "      <td>25.2815</td>\n",
       "      <td>06:11 AM</td>\n",
       "      <td>06:19 PM</td>\n",
       "    </tr>\n",
       "    <tr>\n",
       "      <th>76</th>\n",
       "      <td>Pakistan</td>\n",
       "      <td>Khyber Pakhtunkhwa</td>\n",
       "      <td>Mansehra</td>\n",
       "      <td>20.87</td>\n",
       "      <td>20.94</td>\n",
       "      <td>20.87</td>\n",
       "      <td>20.87</td>\n",
       "      <td>74</td>\n",
       "      <td>1009</td>\n",
       "      <td>1.85</td>\n",
       "      <td>0</td>\n",
       "      <td>Clear Sky</td>\n",
       "      <td>73.2000</td>\n",
       "      <td>34.3333</td>\n",
       "      <td>05:55 AM</td>\n",
       "      <td>06:04 PM</td>\n",
       "    </tr>\n",
       "    <tr>\n",
       "      <th>107</th>\n",
       "      <td>Pakistan</td>\n",
       "      <td>Balochistan</td>\n",
       "      <td>Panjgur</td>\n",
       "      <td>25.65</td>\n",
       "      <td>26.02</td>\n",
       "      <td>25.65</td>\n",
       "      <td>25.65</td>\n",
       "      <td>67</td>\n",
       "      <td>1009</td>\n",
       "      <td>3.56</td>\n",
       "      <td>4</td>\n",
       "      <td>Clear Sky</td>\n",
       "      <td>64.0903</td>\n",
       "      <td>26.9645</td>\n",
       "      <td>06:32 AM</td>\n",
       "      <td>06:40 PM</td>\n",
       "    </tr>\n",
       "    <tr>\n",
       "      <th>91</th>\n",
       "      <td>Pakistan</td>\n",
       "      <td>Balochistan</td>\n",
       "      <td>Gwadar</td>\n",
       "      <td>27.01</td>\n",
       "      <td>29.95</td>\n",
       "      <td>27.01</td>\n",
       "      <td>27.01</td>\n",
       "      <td>82</td>\n",
       "      <td>1007</td>\n",
       "      <td>2.50</td>\n",
       "      <td>46</td>\n",
       "      <td>Scattered Clouds</td>\n",
       "      <td>62.3254</td>\n",
       "      <td>25.1216</td>\n",
       "      <td>06:39 AM</td>\n",
       "      <td>06:47 PM</td>\n",
       "    </tr>\n",
       "  </tbody>\n",
       "</table>\n",
       "</div>"
      ],
      "text/plain": [
       "      Country            Province      City  Temperature  Feels_Like  \\\n",
       "48   Pakistan              Punjab   Chiniot        30.71       30.82   \n",
       "17   Pakistan               Sindh    Ghotki        32.90       32.33   \n",
       "66   Pakistan              Punjab   Shorkot        33.34       33.10   \n",
       "51   Pakistan              Punjab   Khushab        29.75       30.13   \n",
       "57   Pakistan              Punjab   Pattoki        29.01       29.80   \n",
       "10   Pakistan               Sindh  Khairpur        32.43       34.18   \n",
       "21   Pakistan               Sindh    Samaro        27.49       29.71   \n",
       "76   Pakistan  Khyber Pakhtunkhwa  Mansehra        20.87       20.94   \n",
       "107  Pakistan         Balochistan   Panjgur        25.65       26.02   \n",
       "91   Pakistan         Balochistan    Gwadar        27.01       29.95   \n",
       "\n",
       "     Min_Temp  Max_Temp  Humidity  Pressure  Wind_Speed  Cloudiness  \\\n",
       "48      30.71     30.71        42      1004        2.10           2   \n",
       "17      32.90     32.90        33      1003        1.37           0   \n",
       "66      33.34     33.34        34      1003        2.50           0   \n",
       "51      29.75     29.75        46      1005        3.03           0   \n",
       "57      29.01     29.01        51      1005        1.86           6   \n",
       "10      32.43     32.43        46      1004        4.31           2   \n",
       "21      27.49     27.49        70      1006        7.67           4   \n",
       "76      20.87     20.87        74      1009        1.85           0   \n",
       "107     25.65     25.65        67      1009        3.56           4   \n",
       "91      27.01     27.01        82      1007        2.50          46   \n",
       "\n",
       "          Description  Longitude  Latitude   Sunrise    Sunset  \n",
       "48          Clear Sky    72.9789   31.7200  05:56 AM  06:05 PM  \n",
       "17          Clear Sky    69.3161   28.0060  06:11 AM  06:19 PM  \n",
       "66          Clear Sky    70.8774   31.9099  06:04 AM  06:13 PM  \n",
       "51          Clear Sky    72.3525   32.2967  05:58 AM  06:07 PM  \n",
       "57          Clear Sky    73.8500   31.0167  05:52 AM  06:01 PM  \n",
       "10          Clear Sky    68.7617   27.5295  06:13 AM  06:21 PM  \n",
       "21          Clear Sky    69.3965   25.2815  06:11 AM  06:19 PM  \n",
       "76          Clear Sky    73.2000   34.3333  05:55 AM  06:04 PM  \n",
       "107         Clear Sky    64.0903   26.9645  06:32 AM  06:40 PM  \n",
       "91   Scattered Clouds    62.3254   25.1216  06:39 AM  06:47 PM  "
      ]
     },
     "execution_count": 7,
     "metadata": {},
     "output_type": "execute_result"
    }
   ],
   "source": [
    "weather_df.sample(10)"
   ]
  },
  {
   "cell_type": "code",
   "execution_count": 8,
   "id": "87aac660",
   "metadata": {
    "execution": {
     "iopub.execute_input": "2024-09-16T15:34:15.781134Z",
     "iopub.status.busy": "2024-09-16T15:34:15.780692Z",
     "iopub.status.idle": "2024-09-16T15:34:15.805133Z",
     "shell.execute_reply": "2024-09-16T15:34:15.803874Z"
    },
    "id": "TghfDcAYUU4O",
    "outputId": "497a68dd-34e9-4790-a196-9172181aea4d",
    "papermill": {
     "duration": 0.054988,
     "end_time": "2024-09-16T15:34:15.807996",
     "exception": false,
     "start_time": "2024-09-16T15:34:15.753008",
     "status": "completed"
    },
    "tags": []
   },
   "outputs": [
    {
     "name": "stdout",
     "output_type": "stream",
     "text": [
      "<class 'pandas.core.frame.DataFrame'>\n",
      "RangeIndex: 118 entries, 0 to 117\n",
      "Data columns (total 16 columns):\n",
      " #   Column       Non-Null Count  Dtype  \n",
      "---  ------       --------------  -----  \n",
      " 0   Country      118 non-null    object \n",
      " 1   Province     118 non-null    object \n",
      " 2   City         118 non-null    object \n",
      " 3   Temperature  118 non-null    float64\n",
      " 4   Feels_Like   118 non-null    float64\n",
      " 5   Min_Temp     118 non-null    float64\n",
      " 6   Max_Temp     118 non-null    float64\n",
      " 7   Humidity     118 non-null    int64  \n",
      " 8   Pressure     118 non-null    int64  \n",
      " 9   Wind_Speed   118 non-null    float64\n",
      " 10  Cloudiness   118 non-null    int64  \n",
      " 11  Description  118 non-null    object \n",
      " 12  Longitude    118 non-null    float64\n",
      " 13  Latitude     118 non-null    float64\n",
      " 14  Sunrise      118 non-null    object \n",
      " 15  Sunset       118 non-null    object \n",
      "dtypes: float64(7), int64(3), object(6)\n",
      "memory usage: 14.9+ KB\n"
     ]
    }
   ],
   "source": [
    "# Check the data types\n",
    "weather_df.info()"
   ]
  },
  {
   "cell_type": "markdown",
   "id": "0c38138c",
   "metadata": {
    "id": "rCpL8Ct_UBTu",
    "papermill": {
     "duration": 0.026401,
     "end_time": "2024-09-16T15:34:15.861969",
     "exception": false,
     "start_time": "2024-09-16T15:34:15.835568",
     "status": "completed"
    },
    "tags": []
   },
   "source": [
    "### Summary Statistics"
   ]
  },
  {
   "cell_type": "code",
   "execution_count": 9,
   "id": "7b832b6c",
   "metadata": {
    "execution": {
     "iopub.execute_input": "2024-09-16T15:34:15.916688Z",
     "iopub.status.busy": "2024-09-16T15:34:15.916291Z",
     "iopub.status.idle": "2024-09-16T15:34:15.957061Z",
     "shell.execute_reply": "2024-09-16T15:34:15.955855Z"
    },
    "id": "OKHksREnUaHc",
    "outputId": "36451793-3d79-46c6-ed47-0330c3daeec7",
    "papermill": {
     "duration": 0.071022,
     "end_time": "2024-09-16T15:34:15.959576",
     "exception": false,
     "start_time": "2024-09-16T15:34:15.888554",
     "status": "completed"
    },
    "tags": []
   },
   "outputs": [
    {
     "data": {
      "text/html": [
       "<div>\n",
       "<style scoped>\n",
       "    .dataframe tbody tr th:only-of-type {\n",
       "        vertical-align: middle;\n",
       "    }\n",
       "\n",
       "    .dataframe tbody tr th {\n",
       "        vertical-align: top;\n",
       "    }\n",
       "\n",
       "    .dataframe thead th {\n",
       "        text-align: right;\n",
       "    }\n",
       "</style>\n",
       "<table border=\"1\" class=\"dataframe\">\n",
       "  <thead>\n",
       "    <tr style=\"text-align: right;\">\n",
       "      <th></th>\n",
       "      <th>Temperature</th>\n",
       "      <th>Feels_Like</th>\n",
       "      <th>Min_Temp</th>\n",
       "      <th>Max_Temp</th>\n",
       "      <th>Humidity</th>\n",
       "      <th>Pressure</th>\n",
       "      <th>Wind_Speed</th>\n",
       "      <th>Cloudiness</th>\n",
       "      <th>Longitude</th>\n",
       "      <th>Latitude</th>\n",
       "    </tr>\n",
       "  </thead>\n",
       "  <tbody>\n",
       "    <tr>\n",
       "      <th>count</th>\n",
       "      <td>118.000000</td>\n",
       "      <td>118.000000</td>\n",
       "      <td>118.000000</td>\n",
       "      <td>118.000000</td>\n",
       "      <td>118.000000</td>\n",
       "      <td>118.000000</td>\n",
       "      <td>118.000000</td>\n",
       "      <td>118.000000</td>\n",
       "      <td>118.000000</td>\n",
       "      <td>118.000000</td>\n",
       "    </tr>\n",
       "    <tr>\n",
       "      <th>mean</th>\n",
       "      <td>28.293644</td>\n",
       "      <td>28.954407</td>\n",
       "      <td>28.286525</td>\n",
       "      <td>28.304576</td>\n",
       "      <td>51.686441</td>\n",
       "      <td>1006.305085</td>\n",
       "      <td>2.893814</td>\n",
       "      <td>6.711864</td>\n",
       "      <td>68.865442</td>\n",
       "      <td>29.756936</td>\n",
       "    </tr>\n",
       "    <tr>\n",
       "      <th>std</th>\n",
       "      <td>4.226020</td>\n",
       "      <td>4.619582</td>\n",
       "      <td>4.251377</td>\n",
       "      <td>4.189561</td>\n",
       "      <td>17.748335</td>\n",
       "      <td>3.533741</td>\n",
       "      <td>2.025876</td>\n",
       "      <td>17.702722</td>\n",
       "      <td>12.564892</td>\n",
       "      <td>5.103704</td>\n",
       "    </tr>\n",
       "    <tr>\n",
       "      <th>min</th>\n",
       "      <td>13.740000</td>\n",
       "      <td>13.230000</td>\n",
       "      <td>12.900000</td>\n",
       "      <td>14.020000</td>\n",
       "      <td>12.000000</td>\n",
       "      <td>1003.000000</td>\n",
       "      <td>0.000000</td>\n",
       "      <td>0.000000</td>\n",
       "      <td>-9.569000</td>\n",
       "      <td>8.518500</td>\n",
       "    </tr>\n",
       "    <tr>\n",
       "      <th>25%</th>\n",
       "      <td>26.820000</td>\n",
       "      <td>26.902500</td>\n",
       "      <td>26.820000</td>\n",
       "      <td>26.820000</td>\n",
       "      <td>39.000000</td>\n",
       "      <td>1004.000000</td>\n",
       "      <td>1.755000</td>\n",
       "      <td>0.000000</td>\n",
       "      <td>68.239900</td>\n",
       "      <td>27.177450</td>\n",
       "    </tr>\n",
       "    <tr>\n",
       "      <th>50%</th>\n",
       "      <td>28.875000</td>\n",
       "      <td>30.215000</td>\n",
       "      <td>28.875000</td>\n",
       "      <td>28.875000</td>\n",
       "      <td>49.000000</td>\n",
       "      <td>1005.000000</td>\n",
       "      <td>2.420000</td>\n",
       "      <td>1.000000</td>\n",
       "      <td>70.618750</td>\n",
       "      <td>30.246500</td>\n",
       "    </tr>\n",
       "    <tr>\n",
       "      <th>75%</th>\n",
       "      <td>31.245000</td>\n",
       "      <td>31.660000</td>\n",
       "      <td>31.245000</td>\n",
       "      <td>31.245000</td>\n",
       "      <td>65.000000</td>\n",
       "      <td>1007.000000</td>\n",
       "      <td>3.287500</td>\n",
       "      <td>6.000000</td>\n",
       "      <td>72.690000</td>\n",
       "      <td>32.095900</td>\n",
       "    </tr>\n",
       "    <tr>\n",
       "      <th>max</th>\n",
       "      <td>35.200000</td>\n",
       "      <td>37.680000</td>\n",
       "      <td>35.200000</td>\n",
       "      <td>35.200000</td>\n",
       "      <td>99.000000</td>\n",
       "      <td>1022.000000</td>\n",
       "      <td>9.280000</td>\n",
       "      <td>100.000000</td>\n",
       "      <td>117.789200</td>\n",
       "      <td>51.445000</td>\n",
       "    </tr>\n",
       "  </tbody>\n",
       "</table>\n",
       "</div>"
      ],
      "text/plain": [
       "       Temperature  Feels_Like    Min_Temp    Max_Temp    Humidity  \\\n",
       "count   118.000000  118.000000  118.000000  118.000000  118.000000   \n",
       "mean     28.293644   28.954407   28.286525   28.304576   51.686441   \n",
       "std       4.226020    4.619582    4.251377    4.189561   17.748335   \n",
       "min      13.740000   13.230000   12.900000   14.020000   12.000000   \n",
       "25%      26.820000   26.902500   26.820000   26.820000   39.000000   \n",
       "50%      28.875000   30.215000   28.875000   28.875000   49.000000   \n",
       "75%      31.245000   31.660000   31.245000   31.245000   65.000000   \n",
       "max      35.200000   37.680000   35.200000   35.200000   99.000000   \n",
       "\n",
       "          Pressure  Wind_Speed  Cloudiness   Longitude    Latitude  \n",
       "count   118.000000  118.000000  118.000000  118.000000  118.000000  \n",
       "mean   1006.305085    2.893814    6.711864   68.865442   29.756936  \n",
       "std       3.533741    2.025876   17.702722   12.564892    5.103704  \n",
       "min    1003.000000    0.000000    0.000000   -9.569000    8.518500  \n",
       "25%    1004.000000    1.755000    0.000000   68.239900   27.177450  \n",
       "50%    1005.000000    2.420000    1.000000   70.618750   30.246500  \n",
       "75%    1007.000000    3.287500    6.000000   72.690000   32.095900  \n",
       "max    1022.000000    9.280000  100.000000  117.789200   51.445000  "
      ]
     },
     "execution_count": 9,
     "metadata": {},
     "output_type": "execute_result"
    }
   ],
   "source": [
    "# Get summary statistics for numerical columns (Temperature, Humidity, etc.)\n",
    "weather_df.describe()"
   ]
  },
  {
   "cell_type": "markdown",
   "id": "f0208c7e",
   "metadata": {
    "id": "FjQxUm2dTpOy",
    "papermill": {
     "duration": 0.026261,
     "end_time": "2024-09-16T15:34:16.012511",
     "exception": false,
     "start_time": "2024-09-16T15:34:15.986250",
     "status": "completed"
    },
    "tags": []
   },
   "source": [
    "### Exploring Categorical Columns"
   ]
  },
  {
   "cell_type": "code",
   "execution_count": 10,
   "id": "0a6a6c92",
   "metadata": {
    "execution": {
     "iopub.execute_input": "2024-09-16T15:34:16.067880Z",
     "iopub.status.busy": "2024-09-16T15:34:16.067447Z",
     "iopub.status.idle": "2024-09-16T15:34:16.075882Z",
     "shell.execute_reply": "2024-09-16T15:34:16.074802Z"
    },
    "id": "Zsb9CaurUiMW",
    "outputId": "fbcf9305-d463-4404-f9e6-9369ba1bc684",
    "papermill": {
     "duration": 0.038897,
     "end_time": "2024-09-16T15:34:16.078194",
     "exception": false,
     "start_time": "2024-09-16T15:34:16.039297",
     "status": "completed"
    },
    "tags": []
   },
   "outputs": [
    {
     "data": {
      "text/plain": [
       "array(['Karachi', 'Hyderabad', 'Sukkur', 'Larkana', 'Nawabshah',\n",
       "       'Jacobabad', 'Dadu', 'Thatta', 'Badin', 'Shikarpur', 'Khairpur',\n",
       "       'Tando Adam', 'Tando Allahyar', 'Sanghar', 'Umerkot', 'Jamshoro',\n",
       "       'Matiari', 'Ghotki', 'Qambar', 'Shahdadkot', 'Hala', 'Samaro',\n",
       "       'Pano Aqil', 'Pithoro', 'Pir Jo Goth', 'Kotri', 'Daro', 'Daur',\n",
       "       'Kandiaro', 'Shahpur Chakar', 'Lakha', 'Sann', 'Khipro', 'Lahore',\n",
       "       'Faisalabad', 'Rawalpindi', 'Multan', 'Gujranwala', 'Sialkot',\n",
       "       'Bahawalpur', 'Sargodha', 'Sheikhupura', 'Jhang', 'Kasur', 'Okara',\n",
       "       'Sahiwal', 'Dera Ghazi Khan', 'Toba Tek Singh', 'Chiniot',\n",
       "       'Narowal', 'Mianwali', 'Khushab', 'Layyah', 'Bhakkar', 'Hafizabad',\n",
       "       'Muridke', 'Jaranwala', 'Pattoki', 'Arifwala', 'Burewala',\n",
       "       'Pakpattan', 'Kahror Pakka', 'Kot Addu', 'Depalpur', 'Samundri',\n",
       "       'Khanewal', 'Shorkot', 'Peshawar', 'Mardan', 'Kohat',\n",
       "       'Dera Ismail Khan', 'Bannu', 'Charsadda', 'Nowshera', 'Haripur',\n",
       "       'Abbottabad', 'Mansehra', 'Lakki Marwat', 'Hangu', 'Tank', 'Dir',\n",
       "       'Chitral', 'Upper Dir', 'Swabi', 'Pabbi', 'Pindi Gheb', 'Jand',\n",
       "       'Shergarh', 'Bara', 'Landi Kotal', 'Quetta', 'Gwadar', 'Hub',\n",
       "       'Zhob', 'Khuzdar', 'Dera Murad Jamali', 'Mastung', 'Chaman',\n",
       "       'Pishin', 'Loralai', 'Nushki', 'Dalbandin', 'Ziarat',\n",
       "       'Qila Saifullah', 'Sibi', 'Dera Bugti', 'Kharan', 'Panjgur',\n",
       "       'Awaran', 'Garmab', 'Barkhan', 'Harnai', 'Rakhni', 'Bela',\n",
       "       'Nasirabad', 'Kahan', 'Ormara'], dtype=object)"
      ]
     },
     "execution_count": 10,
     "metadata": {},
     "output_type": "execute_result"
    }
   ],
   "source": [
    "weather_df[\"City\"].unique()"
   ]
  },
  {
   "cell_type": "code",
   "execution_count": 11,
   "id": "07e1782d",
   "metadata": {
    "execution": {
     "iopub.execute_input": "2024-09-16T15:34:16.134818Z",
     "iopub.status.busy": "2024-09-16T15:34:16.133864Z",
     "iopub.status.idle": "2024-09-16T15:34:16.143061Z",
     "shell.execute_reply": "2024-09-16T15:34:16.141937Z"
    },
    "id": "YivbzxrrYjME",
    "outputId": "5db32a91-3871-4ff3-b24b-6d1121d81e63",
    "papermill": {
     "duration": 0.04047,
     "end_time": "2024-09-16T15:34:16.145620",
     "exception": false,
     "start_time": "2024-09-16T15:34:16.105150",
     "status": "completed"
    },
    "tags": []
   },
   "outputs": [
    {
     "data": {
      "text/plain": [
       "Province            Description     \n",
       "Balochistan         Clear Sky           25\n",
       "                    Few Clouds           1\n",
       "                    Overcast Clouds      1\n",
       "                    Scattered Clouds     1\n",
       "Khyber Pakhtunkhwa  Clear Sky           22\n",
       "                    Light Rain           1\n",
       "Punjab              Clear Sky           30\n",
       "                    Smoke                3\n",
       "                    Few Clouds           1\n",
       "Sindh               Clear Sky           29\n",
       "                    Few Clouds           1\n",
       "                    Haze                 1\n",
       "                    Light Rain           1\n",
       "                    Overcast Clouds      1\n",
       "Name: Description, dtype: int64"
      ]
     },
     "execution_count": 11,
     "metadata": {},
     "output_type": "execute_result"
    }
   ],
   "source": [
    "weather_df.groupby(\"Province\")[\"Description\"].value_counts()"
   ]
  },
  {
   "cell_type": "markdown",
   "id": "2b497637",
   "metadata": {
    "id": "GXv5rG9pVIdq",
    "papermill": {
     "duration": 0.02685,
     "end_time": "2024-09-16T15:34:16.254854",
     "exception": false,
     "start_time": "2024-09-16T15:34:16.228004",
     "status": "completed"
    },
    "tags": []
   },
   "source": [
    "# Part 3"
   ]
  },
  {
   "cell_type": "markdown",
   "id": "ee721ae0",
   "metadata": {
    "id": "jOgdkoJBU9pp",
    "papermill": {
     "duration": 0.029002,
     "end_time": "2024-09-16T15:34:16.665899",
     "exception": false,
     "start_time": "2024-09-16T15:34:16.636897",
     "status": "completed"
    },
    "tags": []
   },
   "source": [
    "### Normalize Column Names"
   ]
  },
  {
   "cell_type": "code",
   "execution_count": 12,
   "id": "867f8785",
   "metadata": {
    "execution": {
     "iopub.execute_input": "2024-09-16T15:34:16.724491Z",
     "iopub.status.busy": "2024-09-16T15:34:16.724094Z",
     "iopub.status.idle": "2024-09-16T15:34:16.729832Z",
     "shell.execute_reply": "2024-09-16T15:34:16.728603Z"
    },
    "id": "sQ-tNqFzU-_z",
    "papermill": {
     "duration": 0.037889,
     "end_time": "2024-09-16T15:34:16.732292",
     "exception": false,
     "start_time": "2024-09-16T15:34:16.694403",
     "status": "completed"
    },
    "tags": []
   },
   "outputs": [],
   "source": [
    "# Normalize column names (lowercase and replace spaces with underscores)\n",
    "weather_df.columns = weather_df.columns.str.lower()"
   ]
  },
  {
   "cell_type": "code",
   "execution_count": 13,
   "id": "c37769fa",
   "metadata": {
    "execution": {
     "iopub.execute_input": "2024-09-16T15:34:16.790547Z",
     "iopub.status.busy": "2024-09-16T15:34:16.790149Z",
     "iopub.status.idle": "2024-09-16T15:34:16.797777Z",
     "shell.execute_reply": "2024-09-16T15:34:16.796640Z"
    },
    "id": "HTbDJdg2aunQ",
    "outputId": "03c0f08f-06cf-4352-88f2-118f16d16047",
    "papermill": {
     "duration": 0.039743,
     "end_time": "2024-09-16T15:34:16.800280",
     "exception": false,
     "start_time": "2024-09-16T15:34:16.760537",
     "status": "completed"
    },
    "tags": []
   },
   "outputs": [
    {
     "data": {
      "text/plain": [
       "Index(['country', 'province', 'city', 'temperature', 'feels_like', 'min_temp',\n",
       "       'max_temp', 'humidity', 'pressure', 'wind_speed', 'cloudiness',\n",
       "       'description', 'longitude', 'latitude', 'sunrise', 'sunset'],\n",
       "      dtype='object')"
      ]
     },
     "execution_count": 13,
     "metadata": {},
     "output_type": "execute_result"
    }
   ],
   "source": [
    "weather_df.columns"
   ]
  },
  {
   "cell_type": "markdown",
   "id": "d4fc899c",
   "metadata": {
    "id": "c3CI3wg4VBKg",
    "papermill": {
     "duration": 0.028079,
     "end_time": "2024-09-16T15:34:16.857038",
     "exception": false,
     "start_time": "2024-09-16T15:34:16.828959",
     "status": "completed"
    },
    "tags": []
   },
   "source": [
    "### Check for Duplicates"
   ]
  },
  {
   "cell_type": "code",
   "execution_count": 14,
   "id": "d9f801b2",
   "metadata": {
    "execution": {
     "iopub.execute_input": "2024-09-16T15:34:16.915625Z",
     "iopub.status.busy": "2024-09-16T15:34:16.914848Z",
     "iopub.status.idle": "2024-09-16T15:34:16.923714Z",
     "shell.execute_reply": "2024-09-16T15:34:16.922614Z"
    },
    "id": "HEWKykJ0VFKM",
    "papermill": {
     "duration": 0.040907,
     "end_time": "2024-09-16T15:34:16.926216",
     "exception": false,
     "start_time": "2024-09-16T15:34:16.885309",
     "status": "completed"
    },
    "tags": []
   },
   "outputs": [
    {
     "name": "stdout",
     "output_type": "stream",
     "text": [
      "There are 0 duplicates\n"
     ]
    }
   ],
   "source": [
    "print(f\"There are {weather_df.duplicated().sum()} duplicates\")"
   ]
  },
  {
   "cell_type": "markdown",
   "id": "45a93404",
   "metadata": {
    "id": "DOUs9uL5U2cs",
    "papermill": {
     "duration": 0.027923,
     "end_time": "2024-09-16T15:34:16.982574",
     "exception": false,
     "start_time": "2024-09-16T15:34:16.954651",
     "status": "completed"
    },
    "tags": []
   },
   "source": [
    "### Convert Columns to Appropriate Data Types"
   ]
  },
  {
   "cell_type": "code",
   "execution_count": 15,
   "id": "458bdfee",
   "metadata": {
    "execution": {
     "iopub.execute_input": "2024-09-16T15:34:17.041346Z",
     "iopub.status.busy": "2024-09-16T15:34:17.040251Z",
     "iopub.status.idle": "2024-09-16T15:34:17.060444Z",
     "shell.execute_reply": "2024-09-16T15:34:17.059319Z"
    },
    "id": "wKcDD70OajHz",
    "outputId": "9f3982e8-bc8c-4f77-a302-35dd711c73d2",
    "papermill": {
     "duration": 0.052252,
     "end_time": "2024-09-16T15:34:17.062966",
     "exception": false,
     "start_time": "2024-09-16T15:34:17.010714",
     "status": "completed"
    },
    "tags": []
   },
   "outputs": [],
   "source": [
    "# Convert 'Sunrise' and 'Sunset' to datetime format\n",
    "weather_df['sunrise'] = pd.to_datetime(weather_df['sunrise'], errors='coerce')\n",
    "weather_df['sunset'] = pd.to_datetime(weather_df['sunset'], errors='coerce')"
   ]
  },
  {
   "cell_type": "code",
   "execution_count": 16,
   "id": "2fe1b899",
   "metadata": {
    "execution": {
     "iopub.execute_input": "2024-09-16T15:34:17.121314Z",
     "iopub.status.busy": "2024-09-16T15:34:17.120909Z",
     "iopub.status.idle": "2024-09-16T15:34:17.146960Z",
     "shell.execute_reply": "2024-09-16T15:34:17.145816Z"
    },
    "id": "qF2tOOOLbBk1",
    "outputId": "2d4e4cd5-190d-41f3-e433-fe7c73ac0920",
    "papermill": {
     "duration": 0.05815,
     "end_time": "2024-09-16T15:34:17.149399",
     "exception": false,
     "start_time": "2024-09-16T15:34:17.091249",
     "status": "completed"
    },
    "tags": []
   },
   "outputs": [
    {
     "data": {
      "text/html": [
       "<div>\n",
       "<style scoped>\n",
       "    .dataframe tbody tr th:only-of-type {\n",
       "        vertical-align: middle;\n",
       "    }\n",
       "\n",
       "    .dataframe tbody tr th {\n",
       "        vertical-align: top;\n",
       "    }\n",
       "\n",
       "    .dataframe thead th {\n",
       "        text-align: right;\n",
       "    }\n",
       "</style>\n",
       "<table border=\"1\" class=\"dataframe\">\n",
       "  <thead>\n",
       "    <tr style=\"text-align: right;\">\n",
       "      <th></th>\n",
       "      <th>country</th>\n",
       "      <th>province</th>\n",
       "      <th>city</th>\n",
       "      <th>temperature</th>\n",
       "      <th>feels_like</th>\n",
       "      <th>min_temp</th>\n",
       "      <th>max_temp</th>\n",
       "      <th>humidity</th>\n",
       "      <th>pressure</th>\n",
       "      <th>wind_speed</th>\n",
       "      <th>cloudiness</th>\n",
       "      <th>description</th>\n",
       "      <th>longitude</th>\n",
       "      <th>latitude</th>\n",
       "      <th>sunrise</th>\n",
       "      <th>sunset</th>\n",
       "    </tr>\n",
       "  </thead>\n",
       "  <tbody>\n",
       "    <tr>\n",
       "      <th>0</th>\n",
       "      <td>Pakistan</td>\n",
       "      <td>Sindh</td>\n",
       "      <td>Karachi</td>\n",
       "      <td>27.90</td>\n",
       "      <td>31.00</td>\n",
       "      <td>27.90</td>\n",
       "      <td>27.90</td>\n",
       "      <td>74</td>\n",
       "      <td>1008</td>\n",
       "      <td>4.12</td>\n",
       "      <td>20</td>\n",
       "      <td>Few Clouds</td>\n",
       "      <td>67.0822</td>\n",
       "      <td>24.9056</td>\n",
       "      <td>2024-09-22 06:20:00</td>\n",
       "      <td>2024-09-22 18:28:00</td>\n",
       "    </tr>\n",
       "    <tr>\n",
       "      <th>1</th>\n",
       "      <td>Pakistan</td>\n",
       "      <td>Sindh</td>\n",
       "      <td>Hyderabad</td>\n",
       "      <td>23.73</td>\n",
       "      <td>24.46</td>\n",
       "      <td>23.73</td>\n",
       "      <td>23.73</td>\n",
       "      <td>88</td>\n",
       "      <td>1006</td>\n",
       "      <td>2.57</td>\n",
       "      <td>75</td>\n",
       "      <td>Haze</td>\n",
       "      <td>78.4744</td>\n",
       "      <td>17.3753</td>\n",
       "      <td>2024-09-22 05:35:00</td>\n",
       "      <td>2024-09-22 17:42:00</td>\n",
       "    </tr>\n",
       "    <tr>\n",
       "      <th>2</th>\n",
       "      <td>Pakistan</td>\n",
       "      <td>Sindh</td>\n",
       "      <td>Sukkur</td>\n",
       "      <td>33.15</td>\n",
       "      <td>33.80</td>\n",
       "      <td>33.15</td>\n",
       "      <td>33.15</td>\n",
       "      <td>39</td>\n",
       "      <td>1004</td>\n",
       "      <td>4.42</td>\n",
       "      <td>2</td>\n",
       "      <td>Clear Sky</td>\n",
       "      <td>68.8574</td>\n",
       "      <td>27.7052</td>\n",
       "      <td>2024-09-22 06:13:00</td>\n",
       "      <td>2024-09-22 18:21:00</td>\n",
       "    </tr>\n",
       "    <tr>\n",
       "      <th>3</th>\n",
       "      <td>Pakistan</td>\n",
       "      <td>Sindh</td>\n",
       "      <td>Larkana</td>\n",
       "      <td>31.74</td>\n",
       "      <td>32.26</td>\n",
       "      <td>31.74</td>\n",
       "      <td>31.74</td>\n",
       "      <td>42</td>\n",
       "      <td>1004</td>\n",
       "      <td>3.30</td>\n",
       "      <td>0</td>\n",
       "      <td>Clear Sky</td>\n",
       "      <td>68.2141</td>\n",
       "      <td>27.5551</td>\n",
       "      <td>2024-09-22 06:15:00</td>\n",
       "      <td>2024-09-22 18:24:00</td>\n",
       "    </tr>\n",
       "    <tr>\n",
       "      <th>4</th>\n",
       "      <td>Pakistan</td>\n",
       "      <td>Sindh</td>\n",
       "      <td>Nawabshah</td>\n",
       "      <td>30.13</td>\n",
       "      <td>32.29</td>\n",
       "      <td>30.13</td>\n",
       "      <td>30.13</td>\n",
       "      <td>56</td>\n",
       "      <td>1004</td>\n",
       "      <td>5.60</td>\n",
       "      <td>6</td>\n",
       "      <td>Clear Sky</td>\n",
       "      <td>68.4096</td>\n",
       "      <td>26.2483</td>\n",
       "      <td>2024-09-22 06:14:00</td>\n",
       "      <td>2024-09-22 18:23:00</td>\n",
       "    </tr>\n",
       "  </tbody>\n",
       "</table>\n",
       "</div>"
      ],
      "text/plain": [
       "    country province       city  temperature  feels_like  min_temp  max_temp  \\\n",
       "0  Pakistan    Sindh    Karachi        27.90       31.00     27.90     27.90   \n",
       "1  Pakistan    Sindh  Hyderabad        23.73       24.46     23.73     23.73   \n",
       "2  Pakistan    Sindh     Sukkur        33.15       33.80     33.15     33.15   \n",
       "3  Pakistan    Sindh    Larkana        31.74       32.26     31.74     31.74   \n",
       "4  Pakistan    Sindh  Nawabshah        30.13       32.29     30.13     30.13   \n",
       "\n",
       "   humidity  pressure  wind_speed  cloudiness description  longitude  \\\n",
       "0        74      1008        4.12          20  Few Clouds    67.0822   \n",
       "1        88      1006        2.57          75        Haze    78.4744   \n",
       "2        39      1004        4.42           2   Clear Sky    68.8574   \n",
       "3        42      1004        3.30           0   Clear Sky    68.2141   \n",
       "4        56      1004        5.60           6   Clear Sky    68.4096   \n",
       "\n",
       "   latitude             sunrise              sunset  \n",
       "0   24.9056 2024-09-22 06:20:00 2024-09-22 18:28:00  \n",
       "1   17.3753 2024-09-22 05:35:00 2024-09-22 17:42:00  \n",
       "2   27.7052 2024-09-22 06:13:00 2024-09-22 18:21:00  \n",
       "3   27.5551 2024-09-22 06:15:00 2024-09-22 18:24:00  \n",
       "4   26.2483 2024-09-22 06:14:00 2024-09-22 18:23:00  "
      ]
     },
     "execution_count": 16,
     "metadata": {},
     "output_type": "execute_result"
    }
   ],
   "source": [
    "weather_df.head()"
   ]
  },
  {
   "cell_type": "markdown",
   "id": "9acc62ca",
   "metadata": {
    "id": "knLQMCSCVNO4",
    "papermill": {
     "duration": 0.028579,
     "end_time": "2024-09-16T15:34:17.262157",
     "exception": false,
     "start_time": "2024-09-16T15:34:17.233578",
     "status": "completed"
    },
    "tags": []
   },
   "source": [
    "# Part (4,5)"
   ]
  },
  {
   "cell_type": "markdown",
   "id": "d44a176f",
   "metadata": {},
   "source": [
    "### Analyzing Distribtution on Numerical Columns"
   ]
  },
  {
   "cell_type": "code",
   "execution_count": 17,
   "id": "1f9dd86f",
   "metadata": {
    "execution": {
     "iopub.execute_input": "2024-09-16T15:34:17.322192Z",
     "iopub.status.busy": "2024-09-16T15:34:17.321293Z",
     "iopub.status.idle": "2024-09-16T15:34:17.729341Z",
     "shell.execute_reply": "2024-09-16T15:34:17.728232Z"
    },
    "id": "RIdN1X4qVbdP",
    "outputId": "8346fbc7-5578-4162-cdd3-b566fe3fadcb",
    "papermill": {
     "duration": 0.44095,
     "end_time": "2024-09-16T15:34:17.731915",
     "exception": false,
     "start_time": "2024-09-16T15:34:17.290965",
     "status": "completed"
    },
    "tags": []
   },
   "outputs": [
    {
     "data": {
      "image/png": "[encoded data removed]",
      "text/plain": [
       "<Figure size 900x500 with 1 Axes>"
      ]
     },
     "metadata": {},
     "output_type": "display_data"
    }
   ],
   "source": [
    "plt.figure(figsize=(9, 5))\n",
    "\n",
    "sns.histplot(weather_df['temperature'], kde=True)\n",
    "plt.title('Temperature Distribution')\n",
    "plt.xlabel('Temperature (°C)')\n",
    "plt.ylabel('Frequency')\n",
    "\n",
    "plt.show()"
   ]
  },
  {
   "cell_type": "code",
   "execution_count": 18,
   "id": "77e25545",
   "metadata": {
    "execution": {
     "iopub.execute_input": "2024-09-16T15:34:17.792793Z",
     "iopub.status.busy": "2024-09-16T15:34:17.792335Z",
     "iopub.status.idle": "2024-09-16T15:34:18.056100Z",
     "shell.execute_reply": "2024-09-16T15:34:18.055015Z"
    },
    "id": "NEtL_DMFZg5g",
    "outputId": "c549c2eb-9c07-4960-9a26-d8571171ec89",
    "papermill": {
     "duration": 0.297215,
     "end_time": "2024-09-16T15:34:18.058699",
     "exception": false,
     "start_time": "2024-09-16T15:34:17.761484",
     "status": "completed"
    },
    "tags": []
   },
   "outputs": [
    {
     "data": {
      "image/png": "[encoded data removed]",
      "text/plain": [
       "<Figure size 900x500 with 1 Axes>"
      ]
     },
     "metadata": {},
     "output_type": "display_data"
    }
   ],
   "source": [
    "plt.figure(figsize=(9, 5))\n",
    "\n",
    "sns.histplot(weather_df['humidity'], kde=True)\n",
    "plt.title('Humidity Distribution')\n",
    "plt.xlabel('Humidity (%)')\n",
    "plt.ylabel('Frequency')\n",
    "\n",
    "plt.show()"
   ]
  },
  {
   "cell_type": "code",
   "execution_count": 19,
   "id": "53e9947c",
   "metadata": {
    "execution": {
     "iopub.execute_input": "2024-09-16T15:34:20.838888Z",
     "iopub.status.busy": "2024-09-16T15:34:20.838416Z",
     "iopub.status.idle": "2024-09-16T15:34:21.156140Z",
     "shell.execute_reply": "2024-09-16T15:34:21.155020Z"
    },
    "papermill": {
     "duration": 0.357435,
     "end_time": "2024-09-16T15:34:21.158536",
     "exception": false,
     "start_time": "2024-09-16T15:34:20.801101",
     "status": "completed"
    },
    "tags": []
   },
   "outputs": [
    {
     "data": {
      "image/png": "[encoded data removed]",
      "text/plain": [
       "<Figure size 1000x600 with 1 Axes>"
      ]
     },
     "metadata": {},
     "output_type": "display_data"
    }
   ],
   "source": [
    "# Histogram for Wind Speed\n",
    "plt.figure(figsize=(10, 6))\n",
    "sns.histplot(weather_df['wind_speed'], kde=True)\n",
    "plt.title('Wind Speed Distribution')\n",
    "plt.xlabel('Wind Speed (m/s)')\n",
    "plt.ylabel('Frequency')\n",
    "plt.show()"
   ]
  },
  {
   "cell_type": "markdown",
   "id": "61e5ddee",
   "metadata": {
    "papermill": {
     "duration": 0.039694,
     "end_time": "2024-09-16T15:34:22.877342",
     "exception": false,
     "start_time": "2024-09-16T15:34:22.837648",
     "status": "completed"
    },
    "tags": []
   },
   "source": [
    "### Top 10 Cities with the Highest Average Wind Speed"
   ]
  },
  {
   "cell_type": "code",
   "execution_count": 20,
   "id": "f63bfb39",
   "metadata": {
    "execution": {
     "iopub.execute_input": "2024-09-16T15:34:22.958746Z",
     "iopub.status.busy": "2024-09-16T15:34:22.957973Z",
     "iopub.status.idle": "2024-09-16T15:34:23.309844Z",
     "shell.execute_reply": "2024-09-16T15:34:23.308618Z"
    },
    "papermill": {
     "duration": 0.395659,
     "end_time": "2024-09-16T15:34:23.312552",
     "exception": false,
     "start_time": "2024-09-16T15:34:22.916893",
     "status": "completed"
    },
    "tags": []
   },
   "outputs": [
    {
     "data": {
      "text/html": [
       "<div>\n",
       "<style scoped>\n",
       "    .dataframe tbody tr th:only-of-type {\n",
       "        vertical-align: middle;\n",
       "    }\n",
       "\n",
       "    .dataframe tbody tr th {\n",
       "        vertical-align: top;\n",
       "    }\n",
       "\n",
       "    .dataframe thead th {\n",
       "        text-align: right;\n",
       "    }\n",
       "</style>\n",
       "<table border=\"1\" class=\"dataframe\">\n",
       "  <thead>\n",
       "    <tr style=\"text-align: right;\">\n",
       "      <th></th>\n",
       "      <th>city</th>\n",
       "      <th>province</th>\n",
       "      <th>wind_speed</th>\n",
       "    </tr>\n",
       "  </thead>\n",
       "  <tbody>\n",
       "    <tr>\n",
       "      <th>15</th>\n",
       "      <td>Jamshoro</td>\n",
       "      <td>Sindh</td>\n",
       "      <td>9.28</td>\n",
       "    </tr>\n",
       "    <tr>\n",
       "      <th>25</th>\n",
       "      <td>Kotri</td>\n",
       "      <td>Sindh</td>\n",
       "      <td>8.86</td>\n",
       "    </tr>\n",
       "    <tr>\n",
       "      <th>16</th>\n",
       "      <td>Matiari</td>\n",
       "      <td>Sindh</td>\n",
       "      <td>8.71</td>\n",
       "    </tr>\n",
       "    <tr>\n",
       "      <th>23</th>\n",
       "      <td>Pithoro</td>\n",
       "      <td>Sindh</td>\n",
       "      <td>8.02</td>\n",
       "    </tr>\n",
       "    <tr>\n",
       "      <th>12</th>\n",
       "      <td>Tando Allahyar</td>\n",
       "      <td>Sindh</td>\n",
       "      <td>7.95</td>\n",
       "    </tr>\n",
       "    <tr>\n",
       "      <th>11</th>\n",
       "      <td>Tando Adam</td>\n",
       "      <td>Sindh</td>\n",
       "      <td>7.84</td>\n",
       "    </tr>\n",
       "    <tr>\n",
       "      <th>32</th>\n",
       "      <td>Khipro</td>\n",
       "      <td>Sindh</td>\n",
       "      <td>7.74</td>\n",
       "    </tr>\n",
       "    <tr>\n",
       "      <th>21</th>\n",
       "      <td>Samaro</td>\n",
       "      <td>Sindh</td>\n",
       "      <td>7.67</td>\n",
       "    </tr>\n",
       "    <tr>\n",
       "      <th>20</th>\n",
       "      <td>Hala</td>\n",
       "      <td>Sindh</td>\n",
       "      <td>7.56</td>\n",
       "    </tr>\n",
       "    <tr>\n",
       "      <th>13</th>\n",
       "      <td>Sanghar</td>\n",
       "      <td>Sindh</td>\n",
       "      <td>7.54</td>\n",
       "    </tr>\n",
       "  </tbody>\n",
       "</table>\n",
       "</div>"
      ],
      "text/plain": [
       "              city province  wind_speed\n",
       "15        Jamshoro    Sindh        9.28\n",
       "25           Kotri    Sindh        8.86\n",
       "16         Matiari    Sindh        8.71\n",
       "23         Pithoro    Sindh        8.02\n",
       "12  Tando Allahyar    Sindh        7.95\n",
       "11      Tando Adam    Sindh        7.84\n",
       "32          Khipro    Sindh        7.74\n",
       "21          Samaro    Sindh        7.67\n",
       "20            Hala    Sindh        7.56\n",
       "13         Sanghar    Sindh        7.54"
      ]
     },
     "execution_count": 20,
     "metadata": {},
     "output_type": "execute_result"
    }
   ],
   "source": [
    "weather_df[[\"city\",\"province\",\"wind_speed\",]].sort_values(by = \"wind_speed\", ascending=False).head(10)"
   ]
  },
  {
   "cell_type": "markdown",
   "id": "abe84d73",
   "metadata": {
    "papermill": {
     "duration": 0.043162,
     "end_time": "2024-09-16T15:34:25.152250",
     "exception": false,
     "start_time": "2024-09-16T15:34:25.109088",
     "status": "completed"
    },
    "tags": []
   },
   "source": [
    "### Top 10 Cities with Highest Temperature"
   ]
  },
  {
   "cell_type": "code",
   "execution_count": 21,
   "id": "437170bb",
   "metadata": {
    "execution": {
     "iopub.execute_input": "2024-09-16T15:34:24.640525Z",
     "iopub.status.busy": "2024-09-16T15:34:24.639701Z",
     "iopub.status.idle": "2024-09-16T15:34:24.974465Z",
     "shell.execute_reply": "2024-09-16T15:34:24.973334Z"
    },
    "papermill": {
     "duration": 0.382129,
     "end_time": "2024-09-16T15:34:24.977002",
     "exception": false,
     "start_time": "2024-09-16T15:34:24.594873",
     "status": "completed"
    },
    "tags": []
   },
   "outputs": [
    {
     "data": {
      "text/html": [
       "<div>\n",
       "<style scoped>\n",
       "    .dataframe tbody tr th:only-of-type {\n",
       "        vertical-align: middle;\n",
       "    }\n",
       "\n",
       "    .dataframe tbody tr th {\n",
       "        vertical-align: top;\n",
       "    }\n",
       "\n",
       "    .dataframe thead th {\n",
       "        text-align: right;\n",
       "    }\n",
       "</style>\n",
       "<table border=\"1\" class=\"dataframe\">\n",
       "  <thead>\n",
       "    <tr style=\"text-align: right;\">\n",
       "      <th></th>\n",
       "      <th>city</th>\n",
       "      <th>province</th>\n",
       "      <th>temperature</th>\n",
       "    </tr>\n",
       "  </thead>\n",
       "  <tbody>\n",
       "    <tr>\n",
       "      <th>104</th>\n",
       "      <td>Sibi</td>\n",
       "      <td>Balochistan</td>\n",
       "      <td>35.20</td>\n",
       "    </tr>\n",
       "    <tr>\n",
       "      <th>77</th>\n",
       "      <td>Lakki Marwat</td>\n",
       "      <td>Khyber Pakhtunkhwa</td>\n",
       "      <td>34.08</td>\n",
       "    </tr>\n",
       "    <tr>\n",
       "      <th>22</th>\n",
       "      <td>Pano Aqil</td>\n",
       "      <td>Sindh</td>\n",
       "      <td>33.77</td>\n",
       "    </tr>\n",
       "    <tr>\n",
       "      <th>6</th>\n",
       "      <td>Dadu</td>\n",
       "      <td>Sindh</td>\n",
       "      <td>33.68</td>\n",
       "    </tr>\n",
       "    <tr>\n",
       "      <th>79</th>\n",
       "      <td>Tank</td>\n",
       "      <td>Khyber Pakhtunkhwa</td>\n",
       "      <td>33.48</td>\n",
       "    </tr>\n",
       "    <tr>\n",
       "      <th>70</th>\n",
       "      <td>Dera Ismail Khan</td>\n",
       "      <td>Khyber Pakhtunkhwa</td>\n",
       "      <td>33.44</td>\n",
       "    </tr>\n",
       "    <tr>\n",
       "      <th>53</th>\n",
       "      <td>Bhakkar</td>\n",
       "      <td>Punjab</td>\n",
       "      <td>33.40</td>\n",
       "    </tr>\n",
       "    <tr>\n",
       "      <th>66</th>\n",
       "      <td>Shorkot</td>\n",
       "      <td>Punjab</td>\n",
       "      <td>33.34</td>\n",
       "    </tr>\n",
       "    <tr>\n",
       "      <th>95</th>\n",
       "      <td>Dera Murad Jamali</td>\n",
       "      <td>Balochistan</td>\n",
       "      <td>33.24</td>\n",
       "    </tr>\n",
       "    <tr>\n",
       "      <th>39</th>\n",
       "      <td>Bahawalpur</td>\n",
       "      <td>Punjab</td>\n",
       "      <td>33.17</td>\n",
       "    </tr>\n",
       "  </tbody>\n",
       "</table>\n",
       "</div>"
      ],
      "text/plain": [
       "                  city            province  temperature\n",
       "104               Sibi         Balochistan        35.20\n",
       "77        Lakki Marwat  Khyber Pakhtunkhwa        34.08\n",
       "22           Pano Aqil               Sindh        33.77\n",
       "6                 Dadu               Sindh        33.68\n",
       "79                Tank  Khyber Pakhtunkhwa        33.48\n",
       "70    Dera Ismail Khan  Khyber Pakhtunkhwa        33.44\n",
       "53             Bhakkar              Punjab        33.40\n",
       "66             Shorkot              Punjab        33.34\n",
       "95   Dera Murad Jamali         Balochistan        33.24\n",
       "39          Bahawalpur              Punjab        33.17"
      ]
     },
     "execution_count": 21,
     "metadata": {},
     "output_type": "execute_result"
    }
   ],
   "source": [
    "weather_df[[\"city\",\"province\",\"temperature\",]].sort_values(by = \"temperature\", ascending=False).head(10)"
   ]
  },
  {
   "cell_type": "markdown",
   "id": "f4a65e09",
   "metadata": {
    "papermill": {
     "duration": 0.044287,
     "end_time": "2024-09-16T15:34:24.551635",
     "exception": false,
     "start_time": "2024-09-16T15:34:24.507348",
     "status": "completed"
    },
    "tags": []
   },
   "source": [
    "### Top 10 Coldest Cities"
   ]
  },
  {
   "cell_type": "code",
   "execution_count": 22,
   "id": "0ba0987f",
   "metadata": {
    "execution": {
     "iopub.execute_input": "2024-09-16T15:34:25.240308Z",
     "iopub.status.busy": "2024-09-16T15:34:25.239877Z",
     "iopub.status.idle": "2024-09-16T15:34:25.619510Z",
     "shell.execute_reply": "2024-09-16T15:34:25.618448Z"
    },
    "papermill": {
     "duration": 0.427064,
     "end_time": "2024-09-16T15:34:25.622189",
     "exception": false,
     "start_time": "2024-09-16T15:34:25.195125",
     "status": "completed"
    },
    "tags": []
   },
   "outputs": [
    {
     "data": {
      "text/html": [
       "<div>\n",
       "<style scoped>\n",
       "    .dataframe tbody tr th:only-of-type {\n",
       "        vertical-align: middle;\n",
       "    }\n",
       "\n",
       "    .dataframe tbody tr th {\n",
       "        vertical-align: top;\n",
       "    }\n",
       "\n",
       "    .dataframe thead th {\n",
       "        text-align: right;\n",
       "    }\n",
       "</style>\n",
       "<table border=\"1\" class=\"dataframe\">\n",
       "  <thead>\n",
       "    <tr style=\"text-align: right;\">\n",
       "      <th></th>\n",
       "      <th>city</th>\n",
       "      <th>province</th>\n",
       "      <th>temperature</th>\n",
       "    </tr>\n",
       "  </thead>\n",
       "  <tbody>\n",
       "    <tr>\n",
       "      <th>92</th>\n",
       "      <td>Hub</td>\n",
       "      <td>Balochistan</td>\n",
       "      <td>13.74</td>\n",
       "    </tr>\n",
       "    <tr>\n",
       "      <th>78</th>\n",
       "      <td>Hangu</td>\n",
       "      <td>Khyber Pakhtunkhwa</td>\n",
       "      <td>14.02</td>\n",
       "    </tr>\n",
       "    <tr>\n",
       "      <th>115</th>\n",
       "      <td>Kahan</td>\n",
       "      <td>Balochistan</td>\n",
       "      <td>15.25</td>\n",
       "    </tr>\n",
       "    <tr>\n",
       "      <th>109</th>\n",
       "      <td>Garmab</td>\n",
       "      <td>Balochistan</td>\n",
       "      <td>16.16</td>\n",
       "    </tr>\n",
       "    <tr>\n",
       "      <th>102</th>\n",
       "      <td>Ziarat</td>\n",
       "      <td>Balochistan</td>\n",
       "      <td>17.56</td>\n",
       "    </tr>\n",
       "    <tr>\n",
       "      <th>75</th>\n",
       "      <td>Abbottabad</td>\n",
       "      <td>Khyber Pakhtunkhwa</td>\n",
       "      <td>19.84</td>\n",
       "    </tr>\n",
       "    <tr>\n",
       "      <th>80</th>\n",
       "      <td>Dir</td>\n",
       "      <td>Khyber Pakhtunkhwa</td>\n",
       "      <td>20.63</td>\n",
       "    </tr>\n",
       "    <tr>\n",
       "      <th>82</th>\n",
       "      <td>Upper Dir</td>\n",
       "      <td>Khyber Pakhtunkhwa</td>\n",
       "      <td>20.63</td>\n",
       "    </tr>\n",
       "    <tr>\n",
       "      <th>76</th>\n",
       "      <td>Mansehra</td>\n",
       "      <td>Khyber Pakhtunkhwa</td>\n",
       "      <td>20.87</td>\n",
       "    </tr>\n",
       "    <tr>\n",
       "      <th>26</th>\n",
       "      <td>Daro</td>\n",
       "      <td>Sindh</td>\n",
       "      <td>21.18</td>\n",
       "    </tr>\n",
       "  </tbody>\n",
       "</table>\n",
       "</div>"
      ],
      "text/plain": [
       "           city            province  temperature\n",
       "92          Hub         Balochistan        13.74\n",
       "78        Hangu  Khyber Pakhtunkhwa        14.02\n",
       "115       Kahan         Balochistan        15.25\n",
       "109      Garmab         Balochistan        16.16\n",
       "102      Ziarat         Balochistan        17.56\n",
       "75   Abbottabad  Khyber Pakhtunkhwa        19.84\n",
       "80          Dir  Khyber Pakhtunkhwa        20.63\n",
       "82    Upper Dir  Khyber Pakhtunkhwa        20.63\n",
       "76     Mansehra  Khyber Pakhtunkhwa        20.87\n",
       "26         Daro               Sindh        21.18"
      ]
     },
     "execution_count": 22,
     "metadata": {},
     "output_type": "execute_result"
    }
   ],
   "source": [
    "weather_df[[\"city\",\"province\",\"temperature\",]].sort_values(by = \"temperature\").head(10)"
   ]
  },
  {
   "cell_type": "markdown",
   "id": "ea44dc24",
   "metadata": {
    "papermill": {
     "duration": 0.043992,
     "end_time": "2024-09-16T15:34:25.800937",
     "exception": false,
     "start_time": "2024-09-16T15:34:25.756945",
     "status": "completed"
    },
    "tags": []
   },
   "source": [
    "### Top 10 Cities with Highest Cloudiness "
   ]
  },
  {
   "cell_type": "code",
   "execution_count": 23,
   "id": "f1afad8f",
   "metadata": {
    "execution": {
     "iopub.execute_input": "2024-09-16T15:34:25.892833Z",
     "iopub.status.busy": "2024-09-16T15:34:25.892038Z",
     "iopub.status.idle": "2024-09-16T15:34:26.178170Z",
     "shell.execute_reply": "2024-09-16T15:34:26.176973Z"
    },
    "papermill": {
     "duration": 0.334525,
     "end_time": "2024-09-16T15:34:26.180547",
     "exception": false,
     "start_time": "2024-09-16T15:34:25.846022",
     "status": "completed"
    },
    "tags": []
   },
   "outputs": [
    {
     "data": {
      "text/html": [
       "<div>\n",
       "<style scoped>\n",
       "    .dataframe tbody tr th:only-of-type {\n",
       "        vertical-align: middle;\n",
       "    }\n",
       "\n",
       "    .dataframe tbody tr th {\n",
       "        vertical-align: top;\n",
       "    }\n",
       "\n",
       "    .dataframe thead th {\n",
       "        text-align: right;\n",
       "    }\n",
       "</style>\n",
       "<table border=\"1\" class=\"dataframe\">\n",
       "  <thead>\n",
       "    <tr style=\"text-align: right;\">\n",
       "      <th></th>\n",
       "      <th>city</th>\n",
       "      <th>province</th>\n",
       "      <th>cloudiness</th>\n",
       "    </tr>\n",
       "  </thead>\n",
       "  <tbody>\n",
       "    <tr>\n",
       "      <th>114</th>\n",
       "      <td>Nasirabad</td>\n",
       "      <td>Balochistan</td>\n",
       "      <td>100</td>\n",
       "    </tr>\n",
       "    <tr>\n",
       "      <th>26</th>\n",
       "      <td>Daro</td>\n",
       "      <td>Sindh</td>\n",
       "      <td>100</td>\n",
       "    </tr>\n",
       "    <tr>\n",
       "      <th>14</th>\n",
       "      <td>Umerkot</td>\n",
       "      <td>Sindh</td>\n",
       "      <td>96</td>\n",
       "    </tr>\n",
       "    <tr>\n",
       "      <th>1</th>\n",
       "      <td>Hyderabad</td>\n",
       "      <td>Sindh</td>\n",
       "      <td>75</td>\n",
       "    </tr>\n",
       "    <tr>\n",
       "      <th>91</th>\n",
       "      <td>Gwadar</td>\n",
       "      <td>Balochistan</td>\n",
       "      <td>46</td>\n",
       "    </tr>\n",
       "    <tr>\n",
       "      <th>38</th>\n",
       "      <td>Sialkot</td>\n",
       "      <td>Punjab</td>\n",
       "      <td>40</td>\n",
       "    </tr>\n",
       "    <tr>\n",
       "      <th>88</th>\n",
       "      <td>Bara</td>\n",
       "      <td>Khyber Pakhtunkhwa</td>\n",
       "      <td>36</td>\n",
       "    </tr>\n",
       "    <tr>\n",
       "      <th>0</th>\n",
       "      <td>Karachi</td>\n",
       "      <td>Sindh</td>\n",
       "      <td>20</td>\n",
       "    </tr>\n",
       "    <tr>\n",
       "      <th>63</th>\n",
       "      <td>Depalpur</td>\n",
       "      <td>Punjab</td>\n",
       "      <td>14</td>\n",
       "    </tr>\n",
       "    <tr>\n",
       "      <th>108</th>\n",
       "      <td>Awaran</td>\n",
       "      <td>Balochistan</td>\n",
       "      <td>11</td>\n",
       "    </tr>\n",
       "  </tbody>\n",
       "</table>\n",
       "</div>"
      ],
      "text/plain": [
       "          city            province  cloudiness\n",
       "114  Nasirabad         Balochistan         100\n",
       "26        Daro               Sindh         100\n",
       "14     Umerkot               Sindh          96\n",
       "1    Hyderabad               Sindh          75\n",
       "91      Gwadar         Balochistan          46\n",
       "38     Sialkot              Punjab          40\n",
       "88        Bara  Khyber Pakhtunkhwa          36\n",
       "0      Karachi               Sindh          20\n",
       "63    Depalpur              Punjab          14\n",
       "108     Awaran         Balochistan          11"
      ]
     },
     "execution_count": 23,
     "metadata": {},
     "output_type": "execute_result"
    }
   ],
   "source": [
    "weather_df[[\"city\",\"province\",\"cloudiness\",]].sort_values(by = \"cloudiness\", ascending=False).head(10)"
   ]
  },
  {
   "cell_type": "code",
   "execution_count": null,
   "id": "e6c880ca",
   "metadata": {},
   "outputs": [],
   "source": []
  }
 ],
 "metadata": {
  "colab": {
   "provenance": []
  },
  "kaggle": {
   "accelerator": "none",
   "dataSources": [
    {
     "datasetId": 5707116,
     "sourceId": 9401550,
     "sourceType": "datasetVersion"
    }
   ],
   "dockerImageVersionId": 30761,
   "isGpuEnabled": false,
   "isInternetEnabled": true,
   "language": "python",
   "sourceType": "notebook"
  },
  "kernelspec": {
   "display_name": "Python 3 (ipykernel)",
   "language": "python",
   "name": "python3"
  },
  "language_info": {
   "codemirror_mode": {
    "name": "ipython",
    "version": 3
   },
   "file_extension": ".py",
   "mimetype": "text/x-python",
   "name": "python",
   "nbconvert_exporter": "python",
   "pygments_lexer": "ipython3",
   "version": "3.11.5"
  },
  "papermill": {
   "default_parameters": {},
   "duration": 51.86453,
   "end_time": "2024-09-16T15:34:29.468878",
   "environment_variables": {},
   "exception": null,
   "input_path": "__notebook__.ipynb",
   "output_path": "__notebook__.ipynb",
   "parameters": {},
   "start_time": "2024-09-16T15:33:37.604348",
   "version": "2.6.0"
  }
 },
 "nbformat": 4,
 "nbformat_minor": 5
}
