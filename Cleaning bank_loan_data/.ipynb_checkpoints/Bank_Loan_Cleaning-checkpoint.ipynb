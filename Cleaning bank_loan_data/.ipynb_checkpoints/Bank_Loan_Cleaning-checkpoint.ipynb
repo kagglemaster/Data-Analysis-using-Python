{
 "cells": [
  {
   "cell_type": "markdown",
   "id": "87f91204",
   "metadata": {},
   "source": [
    "## Questions for Cleaning the Dataset\n",
    "\n",
    "1.Identify and Remove Duplicates:\n",
    "\n",
    "2.Trim Trailing Whitespace:\n",
    "\n",
    "3.Standardize Data Formats:\n",
    "\n",
    "4.Handle Missing Values:\n",
    "\n",
    "5.Validate Data Accuracy:\n",
    "\n",
    "6.Check for Inconsistencies:\n",
    "\n",
    "7.Normalize Text Fields:\n",
    "\n",
    "8.Ensure Data Type Consistency:\n",
    "\n",
    "9.Detect and Correct Typos:"
   ]
  },
  {
   "cell_type": "code",
   "execution_count": 1,
   "id": "66c59318",
   "metadata": {},
   "outputs": [],
   "source": [
    "import pandas as pd\n",
    "import clean_mod as mod # imported my custom module"
   ]
  },
  {
   "cell_type": "code",
   "execution_count": 2,
   "id": "9073bfe4",
   "metadata": {},
   "outputs": [
    {
     "data": {
      "text/html": [
       "<div>\n",
       "<style scoped>\n",
       "    .dataframe tbody tr th:only-of-type {\n",
       "        vertical-align: middle;\n",
       "    }\n",
       "\n",
       "    .dataframe tbody tr th {\n",
       "        vertical-align: top;\n",
       "    }\n",
       "\n",
       "    .dataframe thead th {\n",
       "        text-align: right;\n",
       "    }\n",
       "</style>\n",
       "<table border=\"1\" class=\"dataframe\">\n",
       "  <thead>\n",
       "    <tr style=\"text-align: right;\">\n",
       "      <th></th>\n",
       "      <th>Loan_ID</th>\n",
       "      <th>Applicant_Name</th>\n",
       "      <th>Loan_Amount</th>\n",
       "      <th>Loan_Status</th>\n",
       "      <th>Loan_Term</th>\n",
       "    </tr>\n",
       "  </thead>\n",
       "  <tbody>\n",
       "    <tr>\n",
       "      <th>0</th>\n",
       "      <td>LP001002</td>\n",
       "      <td>John Doe</td>\n",
       "      <td>5000</td>\n",
       "      <td>Y</td>\n",
       "      <td>360</td>\n",
       "    </tr>\n",
       "    <tr>\n",
       "      <th>1</th>\n",
       "      <td>LP001003</td>\n",
       "      <td>Jane Smith</td>\n",
       "      <td>4000</td>\n",
       "      <td>N</td>\n",
       "      <td>120</td>\n",
       "    </tr>\n",
       "    <tr>\n",
       "      <th>2</th>\n",
       "      <td>LP001004</td>\n",
       "      <td>Michael Johnson</td>\n",
       "      <td>6000</td>\n",
       "      <td>Y</td>\n",
       "      <td>360</td>\n",
       "    </tr>\n",
       "    <tr>\n",
       "      <th>3</th>\n",
       "      <td>LP001005</td>\n",
       "      <td>Emily Davis</td>\n",
       "      <td>5000</td>\n",
       "      <td>Y</td>\n",
       "      <td>360</td>\n",
       "    </tr>\n",
       "    <tr>\n",
       "      <th>4</th>\n",
       "      <td>LP001002</td>\n",
       "      <td>John Doe</td>\n",
       "      <td>5000</td>\n",
       "      <td>Y</td>\n",
       "      <td>360</td>\n",
       "    </tr>\n",
       "    <tr>\n",
       "      <th>...</th>\n",
       "      <td>...</td>\n",
       "      <td>...</td>\n",
       "      <td>...</td>\n",
       "      <td>...</td>\n",
       "      <td>...</td>\n",
       "    </tr>\n",
       "    <tr>\n",
       "      <th>96</th>\n",
       "      <td>LP001096</td>\n",
       "      <td>James Robinson</td>\n",
       "      <td>3000</td>\n",
       "      <td>Y</td>\n",
       "      <td>360</td>\n",
       "    </tr>\n",
       "    <tr>\n",
       "      <th>97</th>\n",
       "      <td>LP001097</td>\n",
       "      <td>Evelyn Harris</td>\n",
       "      <td>6000</td>\n",
       "      <td>Y</td>\n",
       "      <td>180</td>\n",
       "    </tr>\n",
       "    <tr>\n",
       "      <th>98</th>\n",
       "      <td>LP001098</td>\n",
       "      <td>Michael Lewis</td>\n",
       "      <td>5000</td>\n",
       "      <td>Y</td>\n",
       "      <td>360</td>\n",
       "    </tr>\n",
       "    <tr>\n",
       "      <th>99</th>\n",
       "      <td>LP001099</td>\n",
       "      <td>Amelia Allen</td>\n",
       "      <td>7000</td>\n",
       "      <td>N</td>\n",
       "      <td>120</td>\n",
       "    </tr>\n",
       "    <tr>\n",
       "      <th>100</th>\n",
       "      <td>LP001100</td>\n",
       "      <td>Noah Hill</td>\n",
       "      <td>4000</td>\n",
       "      <td>Y</td>\n",
       "      <td>360</td>\n",
       "    </tr>\n",
       "  </tbody>\n",
       "</table>\n",
       "<p>101 rows × 5 columns</p>\n",
       "</div>"
      ],
      "text/plain": [
       "      Loan_ID   Applicant_Name  Loan_Amount Loan_Status  Loan_Term\n",
       "0    LP001002        John Doe          5000          Y         360\n",
       "1    LP001003       Jane Smith         4000          N         120\n",
       "2    LP001004  Michael Johnson         6000           Y        360\n",
       "3    LP001005      Emily Davis         5000           Y        360\n",
       "4    LP001002         John Doe         5000           Y        360\n",
       "..        ...              ...          ...         ...        ...\n",
       "96   LP001096   James Robinson         3000           Y        360\n",
       "97   LP001097    Evelyn Harris         6000           Y        180\n",
       "98   LP001098    Michael Lewis         5000           Y        360\n",
       "99   LP001099     Amelia Allen         7000           N        120\n",
       "100  LP001100        Noah Hill         4000           Y        360\n",
       "\n",
       "[101 rows x 5 columns]"
      ]
     },
     "execution_count": 2,
     "metadata": {},
     "output_type": "execute_result"
    }
   ],
   "source": [
    "data = pd.read_excel(\"bank_loan.xlsx\")\n",
    "data"
   ]
  },
  {
   "cell_type": "markdown",
   "id": "33b7c6b7",
   "metadata": {},
   "source": [
    "## 1.Identify and Remove Duplicates"
   ]
  },
  {
   "cell_type": "code",
   "execution_count": 3,
   "id": "0ec31431",
   "metadata": {},
   "outputs": [
    {
     "data": {
      "text/plain": [
       "1"
      ]
     },
     "execution_count": 3,
     "metadata": {},
     "output_type": "execute_result"
    }
   ],
   "source": [
    "data.duplicated().sum()"
   ]
  },
  {
   "cell_type": "code",
   "execution_count": 4,
   "id": "04118ca0",
   "metadata": {},
   "outputs": [],
   "source": [
    "data.drop_duplicates(inplace=True)"
   ]
  },
  {
   "cell_type": "markdown",
   "id": "d0388f07",
   "metadata": {},
   "source": [
    "## 2.Trim Trailing Whitespace:"
   ]
  },
  {
   "cell_type": "code",
   "execution_count": 5,
   "id": "2639c12c",
   "metadata": {},
   "outputs": [
    {
     "data": {
      "text/plain": [
       "Index(['Loan_ID', 'Applicant_Name', 'Loan_Amount', 'Loan_Status', 'Loan_Term'], dtype='object')"
      ]
     },
     "execution_count": 5,
     "metadata": {},
     "output_type": "execute_result"
    }
   ],
   "source": [
    "data.columns"
   ]
  },
  {
   "cell_type": "code",
   "execution_count": 8,
   "id": "3468cc1d",
   "metadata": {},
   "outputs": [
    {
     "name": "stdout",
     "output_type": "stream",
     "text": [
      "0      LP001002\n",
      "1      LP001003\n",
      "2      LP001004\n",
      "3      LP001005\n",
      "4      LP001002\n",
      "         ...   \n",
      "96     LP001096\n",
      "97     LP001097\n",
      "98     LP001098\n",
      "99     LP001099\n",
      "100    LP001100\n",
      "Name: Loan_ID, Length: 100, dtype: object\n",
      "0            John Doe \n",
      "1           Jane Smith\n",
      "2      Michael Johnson\n",
      "3          Emily Davis\n",
      "4             John Doe\n",
      "            ...       \n",
      "96      James Robinson\n",
      "97       Evelyn Harris\n",
      "98       Michael Lewis\n",
      "99        Amelia Allen\n",
      "100          Noah Hill\n",
      "Name: Applicant_Name, Length: 100, dtype: object\n",
      "0      5000\n",
      "1      4000\n",
      "2      6000\n",
      "3      5000\n",
      "4      5000\n",
      "       ... \n",
      "96     3000\n",
      "97     6000\n",
      "98     5000\n",
      "99     7000\n",
      "100    4000\n",
      "Name: Loan_Amount, Length: 100, dtype: int64\n",
      "0      Y \n",
      "1      N \n",
      "2       Y\n",
      "3       Y\n",
      "4       Y\n",
      "       ..\n",
      "96      Y\n",
      "97      Y\n",
      "98      Y\n",
      "99      N\n",
      "100     Y\n",
      "Name: Loan_Status, Length: 100, dtype: object\n",
      "0      360\n",
      "1      120\n",
      "2      360\n",
      "3      360\n",
      "4      360\n",
      "      ... \n",
      "96     360\n",
      "97     180\n",
      "98     360\n",
      "99     120\n",
      "100    360\n",
      "Name: Loan_Term, Length: 100, dtype: int64\n"
     ]
    }
   ],
   "source": [
    "for column in data.columns:\n",
    "    print(data[column])"
   ]
  },
  {
   "cell_type": "code",
   "execution_count": 15,
   "id": "703923ec",
   "metadata": {},
   "outputs": [
    {
     "data": {
      "text/html": [
       "<div>\n",
       "<style scoped>\n",
       "    .dataframe tbody tr th:only-of-type {\n",
       "        vertical-align: middle;\n",
       "    }\n",
       "\n",
       "    .dataframe tbody tr th {\n",
       "        vertical-align: top;\n",
       "    }\n",
       "\n",
       "    .dataframe thead th {\n",
       "        text-align: right;\n",
       "    }\n",
       "</style>\n",
       "<table border=\"1\" class=\"dataframe\">\n",
       "  <thead>\n",
       "    <tr style=\"text-align: right;\">\n",
       "      <th></th>\n",
       "      <th>Loan_ID</th>\n",
       "      <th>Applicant_Name</th>\n",
       "      <th>Loan_Amount</th>\n",
       "      <th>Loan_Status</th>\n",
       "      <th>Loan_Term</th>\n",
       "    </tr>\n",
       "  </thead>\n",
       "  <tbody>\n",
       "    <tr>\n",
       "      <th>0</th>\n",
       "      <td>LP001002</td>\n",
       "      <td>John Doe</td>\n",
       "      <td>5000</td>\n",
       "      <td>Y</td>\n",
       "      <td>360</td>\n",
       "    </tr>\n",
       "    <tr>\n",
       "      <th>1</th>\n",
       "      <td>LP001003</td>\n",
       "      <td>Jane Smith</td>\n",
       "      <td>4000</td>\n",
       "      <td>N</td>\n",
       "      <td>120</td>\n",
       "    </tr>\n",
       "    <tr>\n",
       "      <th>2</th>\n",
       "      <td>LP001004</td>\n",
       "      <td>Michael Johnson</td>\n",
       "      <td>6000</td>\n",
       "      <td>Y</td>\n",
       "      <td>360</td>\n",
       "    </tr>\n",
       "    <tr>\n",
       "      <th>3</th>\n",
       "      <td>LP001005</td>\n",
       "      <td>Emily Davis</td>\n",
       "      <td>5000</td>\n",
       "      <td>Y</td>\n",
       "      <td>360</td>\n",
       "    </tr>\n",
       "    <tr>\n",
       "      <th>4</th>\n",
       "      <td>LP001002</td>\n",
       "      <td>John Doe</td>\n",
       "      <td>5000</td>\n",
       "      <td>Y</td>\n",
       "      <td>360</td>\n",
       "    </tr>\n",
       "    <tr>\n",
       "      <th>...</th>\n",
       "      <td>...</td>\n",
       "      <td>...</td>\n",
       "      <td>...</td>\n",
       "      <td>...</td>\n",
       "      <td>...</td>\n",
       "    </tr>\n",
       "    <tr>\n",
       "      <th>96</th>\n",
       "      <td>LP001096</td>\n",
       "      <td>James Robinson</td>\n",
       "      <td>3000</td>\n",
       "      <td>Y</td>\n",
       "      <td>360</td>\n",
       "    </tr>\n",
       "    <tr>\n",
       "      <th>97</th>\n",
       "      <td>LP001097</td>\n",
       "      <td>Evelyn Harris</td>\n",
       "      <td>6000</td>\n",
       "      <td>Y</td>\n",
       "      <td>180</td>\n",
       "    </tr>\n",
       "    <tr>\n",
       "      <th>98</th>\n",
       "      <td>LP001098</td>\n",
       "      <td>Michael Lewis</td>\n",
       "      <td>5000</td>\n",
       "      <td>Y</td>\n",
       "      <td>360</td>\n",
       "    </tr>\n",
       "    <tr>\n",
       "      <th>99</th>\n",
       "      <td>LP001099</td>\n",
       "      <td>Amelia Allen</td>\n",
       "      <td>7000</td>\n",
       "      <td>N</td>\n",
       "      <td>120</td>\n",
       "    </tr>\n",
       "    <tr>\n",
       "      <th>100</th>\n",
       "      <td>LP001100</td>\n",
       "      <td>Noah Hill</td>\n",
       "      <td>4000</td>\n",
       "      <td>Y</td>\n",
       "      <td>360</td>\n",
       "    </tr>\n",
       "  </tbody>\n",
       "</table>\n",
       "<p>100 rows × 5 columns</p>\n",
       "</div>"
      ],
      "text/plain": [
       "      Loan_ID   Applicant_Name  Loan_Amount Loan_Status  Loan_Term\n",
       "0    LP001002         John Doe         5000           Y        360\n",
       "1    LP001003       Jane Smith         4000           N        120\n",
       "2    LP001004  Michael Johnson         6000           Y        360\n",
       "3    LP001005      Emily Davis         5000           Y        360\n",
       "4    LP001002         John Doe         5000           Y        360\n",
       "..        ...              ...          ...         ...        ...\n",
       "96   LP001096   James Robinson         3000           Y        360\n",
       "97   LP001097    Evelyn Harris         6000           Y        180\n",
       "98   LP001098    Michael Lewis         5000           Y        360\n",
       "99   LP001099     Amelia Allen         7000           N        120\n",
       "100  LP001100        Noah Hill         4000           Y        360\n",
       "\n",
       "[100 rows x 5 columns]"
      ]
     },
     "execution_count": 15,
     "metadata": {},
     "output_type": "execute_result"
    }
   ],
   "source": [
    "# just used a method of custom module created by me\n",
    "mod.whitespace_remover(data)"
   ]
  },
  {
   "cell_type": "code",
   "execution_count": 14,
   "id": "fc6fb3f8",
   "metadata": {},
   "outputs": [
    {
     "name": "stdout",
     "output_type": "stream",
     "text": [
      "0      LP001002\n",
      "1      LP001003\n",
      "2      LP001004\n",
      "3      LP001005\n",
      "4      LP001002\n",
      "         ...   \n",
      "96     LP001096\n",
      "97     LP001097\n",
      "98     LP001098\n",
      "99     LP001099\n",
      "100    LP001100\n",
      "Name: Loan_ID, Length: 100, dtype: object\n",
      "0             John Doe\n",
      "1           Jane Smith\n",
      "2      Michael Johnson\n",
      "3          Emily Davis\n",
      "4             John Doe\n",
      "            ...       \n",
      "96      James Robinson\n",
      "97       Evelyn Harris\n",
      "98       Michael Lewis\n",
      "99        Amelia Allen\n",
      "100          Noah Hill\n",
      "Name: Applicant_Name, Length: 100, dtype: object\n",
      "0      5000\n",
      "1      4000\n",
      "2      6000\n",
      "3      5000\n",
      "4      5000\n",
      "       ... \n",
      "96     3000\n",
      "97     6000\n",
      "98     5000\n",
      "99     7000\n",
      "100    4000\n",
      "Name: Loan_Amount, Length: 100, dtype: int64\n",
      "0      Y\n",
      "1      N\n",
      "2      Y\n",
      "3      Y\n",
      "4      Y\n",
      "      ..\n",
      "96     Y\n",
      "97     Y\n",
      "98     Y\n",
      "99     N\n",
      "100    Y\n",
      "Name: Loan_Status, Length: 100, dtype: object\n",
      "0      360\n",
      "1      120\n",
      "2      360\n",
      "3      360\n",
      "4      360\n",
      "      ... \n",
      "96     360\n",
      "97     180\n",
      "98     360\n",
      "99     120\n",
      "100    360\n",
      "Name: Loan_Term, Length: 100, dtype: int64\n"
     ]
    }
   ],
   "source": [
    "for column in data.columns:\n",
    "    print(data[column])"
   ]
  },
  {
   "cell_type": "markdown",
   "id": "ddf21649",
   "metadata": {},
   "source": [
    "## 3.Standardize Data Formats:"
   ]
  },
  {
   "cell_type": "code",
   "execution_count": 16,
   "id": "5e0b2f51",
   "metadata": {},
   "outputs": [
    {
     "name": "stdout",
     "output_type": "stream",
     "text": [
      "<class 'pandas.core.frame.DataFrame'>\n",
      "Index: 100 entries, 0 to 100\n",
      "Data columns (total 5 columns):\n",
      " #   Column          Non-Null Count  Dtype \n",
      "---  ------          --------------  ----- \n",
      " 0   Loan_ID         100 non-null    object\n",
      " 1   Applicant_Name  100 non-null    object\n",
      " 2   Loan_Amount     100 non-null    int64 \n",
      " 3   Loan_Status     100 non-null    object\n",
      " 4   Loan_Term       100 non-null    int64 \n",
      "dtypes: int64(2), object(3)\n",
      "memory usage: 4.7+ KB\n"
     ]
    }
   ],
   "source": [
    "data.info()"
   ]
  },
  {
   "cell_type": "code",
   "execution_count": 24,
   "id": "251c566b",
   "metadata": {},
   "outputs": [
    {
     "name": "stdout",
     "output_type": "stream",
     "text": [
      "['LP001002' 'LP001003' 'LP001004' 'LP001005' 'LP001006' 'LP001007'\n",
      " 'LP001008' 'LP001009' 'LP001010' 'LP001011' 'LP001012' 'LP001013'\n",
      " 'LP001014' 'LP001015' 'LP001016' 'LP001017' 'LP001018' 'LP001019'\n",
      " 'LP001020' 'LP001021' 'LP001022' 'LP001023' 'LP001024' 'LP001025'\n",
      " 'LP001026' 'LP001027' 'LP001028' 'LP001029' 'LP001030' 'LP001031'\n",
      " 'LP001032' 'LP001033' 'LP001034' 'LP001035' 'LP001036' 'LP001037'\n",
      " 'LP001038' 'LP001039' 'LP001040' 'LP001041' 'LP001042' 'LP001043'\n",
      " 'LP001044' 'LP001045' 'LP001046' 'LP001047' 'LP001048' 'LP001049'\n",
      " 'LP001050' 'LP001051' 'LP001052' 'LP001053' 'LP001054' 'LP001055'\n",
      " 'LP001056' 'LP001057' 'LP001058' 'LP001059' 'LP001060' 'LP001061'\n",
      " 'LP001062' 'LP001063' 'LP001064' 'LP001065' 'LP001066' 'LP001067'\n",
      " 'LP001068' 'LP001069' 'LP001070' 'LP001071' 'LP001072' 'LP001073'\n",
      " 'LP001074' 'LP001075' 'LP001076' 'LP001077' 'LP001078' 'LP001079'\n",
      " 'LP001080' 'LP001081' 'LP001082' 'LP001083' 'LP001084' 'LP001085'\n",
      " 'LP001086' 'LP001087' 'LP001088' 'LP001089' 'LP001090' 'LP001091'\n",
      " 'LP001092' 'LP001093' 'LP001094' 'LP001095' 'LP001096' 'LP001097'\n",
      " 'LP001098' 'LP001099' 'LP001100']\n",
      "['John Doe' 'Jane Smith' 'Michael Johnson' 'Emily Davis' 'Jessica Miller'\n",
      " 'Chris Brown' 'Laura Wilson' 'James Moore' 'Olivia Anderson'\n",
      " 'Liam Walker' 'Mia Thompson' 'Noah Robinson' 'Emma Harris'\n",
      " 'William Clark' 'Ava Lewis' 'Mason Allen' 'Sophia Young' 'Isabella King'\n",
      " 'James Scott' 'Benjamin Hill' 'Charlotte Green' 'Lucas Adams'\n",
      " 'Evelyn Baker' 'Henry Gonzalez' 'Harper Nelson' 'Alexander Carter'\n",
      " 'Amelia Mitchell' 'Michael Perez' 'Oliver Roberts' 'Emily Turner'\n",
      " 'Daniel Phillips' 'Grace Campbell' 'Jackson Parker' 'Avery Edwards'\n",
      " 'Aiden Collins' 'Ella Stewart' 'Liam Morris' 'Sophia Rogers' 'Lucas Reed'\n",
      " 'Charlotte Cook' 'Henry Morgan' 'Amelia Bell' 'Oliver Murphy'\n",
      " 'Ava Bailey' 'James Cooper' 'Harper Richardson' 'Michael Cox'\n",
      " 'Emma Howard' 'Mia Ward' 'Noah Brooks' 'Isabella Lee' 'James Hughes'\n",
      " 'Charlotte Long' 'Liam Jenkins' 'Evelyn Perry' 'William Ramirez'\n",
      " 'Ava Gray' 'Michael Brooks' 'Emma Hughes' 'Noah Long' 'Lucas Richardson'\n",
      " 'Sophia Cox' 'James Howard' 'Evelyn Gray' 'Harper Jenkins' 'Liam Perry'\n",
      " 'Charlotte Ward' 'Henry Lee' 'Ava Walker' 'Oliver Ramirez'\n",
      " 'James Phillips' 'Amelia Harris' 'William Baker' 'Emily Carter'\n",
      " 'Liam Allen' 'Noah Scott' 'Grace Lewis' 'Oliver Green' 'Evelyn Hill'\n",
      " 'Jackson Mitchell' 'Harper Thompson' 'Mia Adams' 'Isabella Nelson'\n",
      " 'Sophia Brown' 'James Gonzalez' 'Oliver Johnson' 'Emily Young'\n",
      " 'Henry Moore' 'Ava Anderson' 'Michael Thomas' 'Charlotte Walker'\n",
      " 'Lucas White' 'Liam Clark' 'Sophia Martinez' 'James Robinson'\n",
      " 'Evelyn Harris' 'Michael Lewis' 'Amelia Allen' 'Noah Hill']\n",
      "[5000 4000 6000 3000 7000 6500 5500 4500 2000]\n",
      "['Y' 'N']\n",
      "[360 120 180]\n"
     ]
    }
   ],
   "source": [
    "for i in data.columns:\n",
    "    print(data[i].unique())"
   ]
  },
  {
   "cell_type": "code",
   "execution_count": 32,
   "id": "1b1e0515",
   "metadata": {},
   "outputs": [],
   "source": [
    "data[\"Applicant_Name\"] = data[\"Applicant_Name\"].str.title()"
   ]
  },
  {
   "cell_type": "markdown",
   "id": "87cc2ca0",
   "metadata": {},
   "source": [
    "## 4.Handle Missing Values:"
   ]
  },
  {
   "cell_type": "code",
   "execution_count": 26,
   "id": "b6e2f2b1",
   "metadata": {},
   "outputs": [
    {
     "data": {
      "text/plain": [
       "(100, 5)"
      ]
     },
     "execution_count": 26,
     "metadata": {},
     "output_type": "execute_result"
    }
   ],
   "source": [
    "data.shape"
   ]
  },
  {
   "cell_type": "code",
   "execution_count": 33,
   "id": "6df115eb",
   "metadata": {},
   "outputs": [
    {
     "data": {
      "text/plain": [
       "Loan_ID           0\n",
       "Applicant_Name    0\n",
       "Loan_Amount       0\n",
       "Loan_Status       0\n",
       "Loan_Term         0\n",
       "dtype: int64"
      ]
     },
     "execution_count": 33,
     "metadata": {},
     "output_type": "execute_result"
    }
   ],
   "source": [
    "data.isnull().sum()"
   ]
  },
  {
   "cell_type": "markdown",
   "id": "8c9bbf3e",
   "metadata": {},
   "source": [
    "## 6.Check for Inconsistencies:"
   ]
  },
  {
   "cell_type": "code",
   "execution_count": 47,
   "id": "0b29fd02",
   "metadata": {},
   "outputs": [
    {
     "name": "stdout",
     "output_type": "stream",
     "text": [
      "    Loan_ID Applicant_Name  Loan_Amount Loan_Status  Loan_Term\n",
      "0  LP001002       John Doe         5000           Y        360\n",
      "4  LP001002       John Doe         5000           Y        360\n",
      "    Loan_ID Applicant_Name  Loan_Amount Loan_Status  Loan_Term\n",
      "0  LP001002       John Doe         5000           Y        360\n",
      "4  LP001002       John Doe         5000           Y        360\n"
     ]
    }
   ],
   "source": [
    "for x in data[\"Loan_ID\"]:\n",
    "    if len(data[data[\"Loan_ID\"] == x]) > 1:\n",
    "        print(data[data[\"Loan_ID\"] == x])"
   ]
  },
  {
   "cell_type": "code",
   "execution_count": 52,
   "id": "7589b9c3",
   "metadata": {},
   "outputs": [],
   "source": [
    "data.drop_duplicates(subset=\"Loan_ID\", inplace=True)"
   ]
  },
  {
   "cell_type": "code",
   "execution_count": 54,
   "id": "bb40c5cb",
   "metadata": {},
   "outputs": [
    {
     "data": {
      "text/html": [
       "<div>\n",
       "<style scoped>\n",
       "    .dataframe tbody tr th:only-of-type {\n",
       "        vertical-align: middle;\n",
       "    }\n",
       "\n",
       "    .dataframe tbody tr th {\n",
       "        vertical-align: top;\n",
       "    }\n",
       "\n",
       "    .dataframe thead th {\n",
       "        text-align: right;\n",
       "    }\n",
       "</style>\n",
       "<table border=\"1\" class=\"dataframe\">\n",
       "  <thead>\n",
       "    <tr style=\"text-align: right;\">\n",
       "      <th></th>\n",
       "      <th>Loan_ID</th>\n",
       "      <th>Applicant_Name</th>\n",
       "      <th>Loan_Amount</th>\n",
       "      <th>Loan_Status</th>\n",
       "      <th>Loan_Term</th>\n",
       "    </tr>\n",
       "  </thead>\n",
       "  <tbody>\n",
       "    <tr>\n",
       "      <th>0</th>\n",
       "      <td>LP001002</td>\n",
       "      <td>John Doe</td>\n",
       "      <td>5000</td>\n",
       "      <td>Y</td>\n",
       "      <td>360</td>\n",
       "    </tr>\n",
       "  </tbody>\n",
       "</table>\n",
       "</div>"
      ],
      "text/plain": [
       "    Loan_ID Applicant_Name  Loan_Amount Loan_Status  Loan_Term\n",
       "0  LP001002       John Doe         5000           Y        360"
      ]
     },
     "execution_count": 54,
     "metadata": {},
     "output_type": "execute_result"
    }
   ],
   "source": [
    "data[data[\"Loan_ID\"] == \"LP001002\"]"
   ]
  },
  {
   "cell_type": "code",
   "execution_count": null,
   "id": "95cad606",
   "metadata": {},
   "outputs": [],
   "source": []
  }
 ],
 "metadata": {
  "kernelspec": {
   "display_name": "Python 3 (ipykernel)",
   "language": "python",
   "name": "python3"
  },
  "language_info": {
   "codemirror_mode": {
    "name": "ipython",
    "version": 3
   },
   "file_extension": ".py",
   "mimetype": "text/x-python",
   "name": "python",
   "nbconvert_exporter": "python",
   "pygments_lexer": "ipython3",
   "version": "3.11.5"
  }
 },
 "nbformat": 4,
 "nbformat_minor": 5
}
