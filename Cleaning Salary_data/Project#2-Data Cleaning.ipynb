{
 "cells": [
  {
   "cell_type": "code",
   "execution_count": 1,
   "id": "7eb45f34",
   "metadata": {},
   "outputs": [],
   "source": [
    "import pandas as pd"
   ]
  },
  {
   "cell_type": "code",
   "execution_count": 2,
   "id": "6c9bcc62",
   "metadata": {},
   "outputs": [
    {
     "data": {
      "text/html": [
       "<div>\n",
       "<style scoped>\n",
       "    .dataframe tbody tr th:only-of-type {\n",
       "        vertical-align: middle;\n",
       "    }\n",
       "\n",
       "    .dataframe tbody tr th {\n",
       "        vertical-align: top;\n",
       "    }\n",
       "\n",
       "    .dataframe thead th {\n",
       "        text-align: right;\n",
       "    }\n",
       "</style>\n",
       "<table border=\"1\" class=\"dataframe\">\n",
       "  <thead>\n",
       "    <tr style=\"text-align: right;\">\n",
       "      <th></th>\n",
       "      <th>Name</th>\n",
       "      <th>Age</th>\n",
       "      <th>Gender</th>\n",
       "      <th>Date_of_Birth</th>\n",
       "      <th>Email</th>\n",
       "      <th>Salary</th>\n",
       "    </tr>\n",
       "  </thead>\n",
       "  <tbody>\n",
       "    <tr>\n",
       "      <th>0</th>\n",
       "      <td>Alice</td>\n",
       "      <td>29</td>\n",
       "      <td>Female</td>\n",
       "      <td>1994-05-23</td>\n",
       "      <td>alice@example.com</td>\n",
       "      <td>70000</td>\n",
       "    </tr>\n",
       "    <tr>\n",
       "      <th>1</th>\n",
       "      <td>Bob</td>\n",
       "      <td>34</td>\n",
       "      <td>Male</td>\n",
       "      <td>1989-01-15</td>\n",
       "      <td>bob@example</td>\n",
       "      <td>85000</td>\n",
       "    </tr>\n",
       "    <tr>\n",
       "      <th>2</th>\n",
       "      <td>Charlie</td>\n",
       "      <td></td>\n",
       "      <td>Male</td>\n",
       "      <td>1988-03-22</td>\n",
       "      <td>charlie@sample.com</td>\n",
       "      <td>91000</td>\n",
       "    </tr>\n",
       "    <tr>\n",
       "      <th>3</th>\n",
       "      <td>David</td>\n",
       "      <td>45</td>\n",
       "      <td>Male</td>\n",
       "      <td>1978-07-08</td>\n",
       "      <td>david@example.com</td>\n",
       "      <td></td>\n",
       "    </tr>\n",
       "    <tr>\n",
       "      <th>4</th>\n",
       "      <td>Eve</td>\n",
       "      <td>29</td>\n",
       "      <td>Female</td>\n",
       "      <td>1994-05-23</td>\n",
       "      <td>eve@example.com</td>\n",
       "      <td>72000</td>\n",
       "    </tr>\n",
       "    <tr>\n",
       "      <th>5</th>\n",
       "      <td>Alice</td>\n",
       "      <td>29</td>\n",
       "      <td>Female</td>\n",
       "      <td>1994-05-23</td>\n",
       "      <td>alice@example.com</td>\n",
       "      <td>70000</td>\n",
       "    </tr>\n",
       "    <tr>\n",
       "      <th>6</th>\n",
       "      <td>Frank</td>\n",
       "      <td>28</td>\n",
       "      <td>Male</td>\n",
       "      <td>1995-12-01</td>\n",
       "      <td>frank@sample.com</td>\n",
       "      <td>68000</td>\n",
       "    </tr>\n",
       "    <tr>\n",
       "      <th>7</th>\n",
       "      <td>Grace</td>\n",
       "      <td>31</td>\n",
       "      <td>Female</td>\n",
       "      <td>1992-02-10</td>\n",
       "      <td>grace@example.com</td>\n",
       "      <td>85000</td>\n",
       "    </tr>\n",
       "    <tr>\n",
       "      <th>8</th>\n",
       "      <td>Hank</td>\n",
       "      <td>34</td>\n",
       "      <td>Male</td>\n",
       "      <td></td>\n",
       "      <td>hank@example.com</td>\n",
       "      <td>78000</td>\n",
       "    </tr>\n",
       "    <tr>\n",
       "      <th>9</th>\n",
       "      <td>Isabel</td>\n",
       "      <td>42</td>\n",
       "      <td>Female</td>\n",
       "      <td>1981-10-30</td>\n",
       "      <td>isabel@example.com</td>\n",
       "      <td>95000</td>\n",
       "    </tr>\n",
       "    <tr>\n",
       "      <th>10</th>\n",
       "      <td>John</td>\n",
       "      <td>36</td>\n",
       "      <td>Male</td>\n",
       "      <td>1987-04-12</td>\n",
       "      <td>john@sample.com</td>\n",
       "      <td>88000</td>\n",
       "    </tr>\n",
       "    <tr>\n",
       "      <th>11</th>\n",
       "      <td>Kate</td>\n",
       "      <td></td>\n",
       "      <td>Female</td>\n",
       "      <td>1990-05-14</td>\n",
       "      <td>kate@example.com</td>\n",
       "      <td>82000</td>\n",
       "    </tr>\n",
       "    <tr>\n",
       "      <th>12</th>\n",
       "      <td>Larry</td>\n",
       "      <td>40</td>\n",
       "      <td>Male</td>\n",
       "      <td>1983-11-21</td>\n",
       "      <td>larry@sample.com</td>\n",
       "      <td>92000</td>\n",
       "    </tr>\n",
       "    <tr>\n",
       "      <th>13</th>\n",
       "      <td>Mona</td>\n",
       "      <td>38</td>\n",
       "      <td>Female</td>\n",
       "      <td>1985-07-19</td>\n",
       "      <td>mona@example</td>\n",
       "      <td>87000</td>\n",
       "    </tr>\n",
       "    <tr>\n",
       "      <th>14</th>\n",
       "      <td>Nina</td>\n",
       "      <td>30</td>\n",
       "      <td>Female</td>\n",
       "      <td>1993-09-23</td>\n",
       "      <td>nina@example.com</td>\n",
       "      <td></td>\n",
       "    </tr>\n",
       "    <tr>\n",
       "      <th>15</th>\n",
       "      <td>Omar</td>\n",
       "      <td>35</td>\n",
       "      <td>Male</td>\n",
       "      <td>1988-02-25</td>\n",
       "      <td>omar@sample.com</td>\n",
       "      <td>81000</td>\n",
       "    </tr>\n",
       "    <tr>\n",
       "      <th>16</th>\n",
       "      <td>Paul</td>\n",
       "      <td></td>\n",
       "      <td>Male</td>\n",
       "      <td>1986-10-11</td>\n",
       "      <td>paul@example.com</td>\n",
       "      <td>93000</td>\n",
       "    </tr>\n",
       "    <tr>\n",
       "      <th>17</th>\n",
       "      <td>Quincy</td>\n",
       "      <td>37</td>\n",
       "      <td>Male</td>\n",
       "      <td>1986-05-30</td>\n",
       "      <td>quincy@example.com</td>\n",
       "      <td>86000</td>\n",
       "    </tr>\n",
       "    <tr>\n",
       "      <th>18</th>\n",
       "      <td>Rita</td>\n",
       "      <td>33</td>\n",
       "      <td>Female</td>\n",
       "      <td>1990-08-15</td>\n",
       "      <td>rita@example.com</td>\n",
       "      <td>78000</td>\n",
       "    </tr>\n",
       "    <tr>\n",
       "      <th>19</th>\n",
       "      <td>Sam</td>\n",
       "      <td>41</td>\n",
       "      <td>Male</td>\n",
       "      <td>1982-03-28</td>\n",
       "      <td>sam@example.com</td>\n",
       "      <td>89000</td>\n",
       "    </tr>\n",
       "    <tr>\n",
       "      <th>20</th>\n",
       "      <td>Tina</td>\n",
       "      <td>29</td>\n",
       "      <td>Female</td>\n",
       "      <td>1994-12-04</td>\n",
       "      <td>tina@sample.com</td>\n",
       "      <td>73000</td>\n",
       "    </tr>\n",
       "    <tr>\n",
       "      <th>21</th>\n",
       "      <td>Uma</td>\n",
       "      <td></td>\n",
       "      <td>Female</td>\n",
       "      <td>1991-06-17</td>\n",
       "      <td>uma@example.com</td>\n",
       "      <td>74000</td>\n",
       "    </tr>\n",
       "    <tr>\n",
       "      <th>22</th>\n",
       "      <td>Vince</td>\n",
       "      <td>35</td>\n",
       "      <td>Male</td>\n",
       "      <td>1988-09-26</td>\n",
       "      <td>vince@sample.com</td>\n",
       "      <td></td>\n",
       "    </tr>\n",
       "    <tr>\n",
       "      <th>23</th>\n",
       "      <td>Wendy</td>\n",
       "      <td>32</td>\n",
       "      <td>Female</td>\n",
       "      <td>1991-11-11</td>\n",
       "      <td>wendy@sample.com</td>\n",
       "      <td>80000</td>\n",
       "    </tr>\n",
       "    <tr>\n",
       "      <th>24</th>\n",
       "      <td>Xander</td>\n",
       "      <td>39</td>\n",
       "      <td>Male</td>\n",
       "      <td>1984-04-06</td>\n",
       "      <td>xander@example.com</td>\n",
       "      <td>88000</td>\n",
       "    </tr>\n",
       "    <tr>\n",
       "      <th>25</th>\n",
       "      <td>Yara</td>\n",
       "      <td>28</td>\n",
       "      <td>Female</td>\n",
       "      <td>1995-01-21</td>\n",
       "      <td>yara@sample.com</td>\n",
       "      <td>67000</td>\n",
       "    </tr>\n",
       "    <tr>\n",
       "      <th>26</th>\n",
       "      <td>Zane</td>\n",
       "      <td>44</td>\n",
       "      <td>Male</td>\n",
       "      <td>1979-08-13</td>\n",
       "      <td>zane@example.com</td>\n",
       "      <td>94000</td>\n",
       "    </tr>\n",
       "    <tr>\n",
       "      <th>27</th>\n",
       "      <td>Amy</td>\n",
       "      <td>30</td>\n",
       "      <td>Female</td>\n",
       "      <td>1993-07-07</td>\n",
       "      <td>amy@example.com</td>\n",
       "      <td></td>\n",
       "    </tr>\n",
       "    <tr>\n",
       "      <th>28</th>\n",
       "      <td>Brian</td>\n",
       "      <td>33</td>\n",
       "      <td>Male</td>\n",
       "      <td>1990-02-18</td>\n",
       "      <td>brian@sample.com</td>\n",
       "      <td>85000</td>\n",
       "    </tr>\n",
       "    <tr>\n",
       "      <th>29</th>\n",
       "      <td>Catherine</td>\n",
       "      <td>29</td>\n",
       "      <td>Female</td>\n",
       "      <td>1994-03-10</td>\n",
       "      <td>catherine@example.com</td>\n",
       "      <td>76000</td>\n",
       "    </tr>\n",
       "    <tr>\n",
       "      <th>30</th>\n",
       "      <td>Derek</td>\n",
       "      <td>36</td>\n",
       "      <td>Male</td>\n",
       "      <td>1987-12-20</td>\n",
       "      <td>derek@sample.com</td>\n",
       "      <td>88000</td>\n",
       "    </tr>\n",
       "    <tr>\n",
       "      <th>31</th>\n",
       "      <td>Ella</td>\n",
       "      <td>27</td>\n",
       "      <td>Female</td>\n",
       "      <td>1996-08-29</td>\n",
       "      <td>ella@example.com</td>\n",
       "      <td></td>\n",
       "    </tr>\n",
       "    <tr>\n",
       "      <th>32</th>\n",
       "      <td>Fred</td>\n",
       "      <td></td>\n",
       "      <td>Male</td>\n",
       "      <td>1985-06-06</td>\n",
       "      <td>fred@example.com</td>\n",
       "      <td>90000</td>\n",
       "    </tr>\n",
       "    <tr>\n",
       "      <th>33</th>\n",
       "      <td>Gina</td>\n",
       "      <td>31</td>\n",
       "      <td>Female</td>\n",
       "      <td>1992-10-23</td>\n",
       "      <td>gina@sample.com</td>\n",
       "      <td>81000</td>\n",
       "    </tr>\n",
       "    <tr>\n",
       "      <th>34</th>\n",
       "      <td>Harry</td>\n",
       "      <td>34</td>\n",
       "      <td>Male</td>\n",
       "      <td>1989-11-14</td>\n",
       "      <td>harry@example.com</td>\n",
       "      <td></td>\n",
       "    </tr>\n",
       "    <tr>\n",
       "      <th>35</th>\n",
       "      <td>Ivy</td>\n",
       "      <td>40</td>\n",
       "      <td>Female</td>\n",
       "      <td>1983-05-19</td>\n",
       "      <td>ivy@sample.com</td>\n",
       "      <td>93000</td>\n",
       "    </tr>\n",
       "    <tr>\n",
       "      <th>36</th>\n",
       "      <td>Jack</td>\n",
       "      <td>38</td>\n",
       "      <td>Male</td>\n",
       "      <td>1985-09-09</td>\n",
       "      <td>jack@sample.com</td>\n",
       "      <td>88000</td>\n",
       "    </tr>\n",
       "    <tr>\n",
       "      <th>37</th>\n",
       "      <td>Karen</td>\n",
       "      <td>32</td>\n",
       "      <td>Female</td>\n",
       "      <td>1991-02-27</td>\n",
       "      <td>karen@example.com</td>\n",
       "      <td>82000</td>\n",
       "    </tr>\n",
       "    <tr>\n",
       "      <th>38</th>\n",
       "      <td>Leo</td>\n",
       "      <td>41</td>\n",
       "      <td>Male</td>\n",
       "      <td>1982-07-01</td>\n",
       "      <td>leo@example.com</td>\n",
       "      <td>91000</td>\n",
       "    </tr>\n",
       "    <tr>\n",
       "      <th>39</th>\n",
       "      <td>Mia</td>\n",
       "      <td>28</td>\n",
       "      <td>Female</td>\n",
       "      <td>1995-03-16</td>\n",
       "      <td>mia@sample.com</td>\n",
       "      <td>68000</td>\n",
       "    </tr>\n",
       "    <tr>\n",
       "      <th>40</th>\n",
       "      <td>Nathan</td>\n",
       "      <td>37</td>\n",
       "      <td>Male</td>\n",
       "      <td>1986-10-20</td>\n",
       "      <td>nathan@example.com</td>\n",
       "      <td></td>\n",
       "    </tr>\n",
       "    <tr>\n",
       "      <th>41</th>\n",
       "      <td>Olivia</td>\n",
       "      <td></td>\n",
       "      <td>Female</td>\n",
       "      <td>1990-12-14</td>\n",
       "      <td>olivia@example.com</td>\n",
       "      <td>85000</td>\n",
       "    </tr>\n",
       "    <tr>\n",
       "      <th>42</th>\n",
       "      <td>Peter</td>\n",
       "      <td>45</td>\n",
       "      <td>Male</td>\n",
       "      <td>1978-11-02</td>\n",
       "      <td>peter@sample.com</td>\n",
       "      <td>92000</td>\n",
       "    </tr>\n",
       "    <tr>\n",
       "      <th>43</th>\n",
       "      <td>Quinn</td>\n",
       "      <td>30</td>\n",
       "      <td>Female</td>\n",
       "      <td>1993-01-08</td>\n",
       "      <td>quinn@example.com</td>\n",
       "      <td></td>\n",
       "    </tr>\n",
       "    <tr>\n",
       "      <th>44</th>\n",
       "      <td>Rachel</td>\n",
       "      <td>35</td>\n",
       "      <td>Female</td>\n",
       "      <td>1988-05-25</td>\n",
       "      <td>rachel@example.com</td>\n",
       "      <td>83000</td>\n",
       "    </tr>\n",
       "    <tr>\n",
       "      <th>45</th>\n",
       "      <td>Steve</td>\n",
       "      <td>43</td>\n",
       "      <td>Male</td>\n",
       "      <td>1980-07-04</td>\n",
       "      <td>steve@sample.com</td>\n",
       "      <td>95000</td>\n",
       "    </tr>\n",
       "    <tr>\n",
       "      <th>46</th>\n",
       "      <td>Tara</td>\n",
       "      <td>29</td>\n",
       "      <td>Female</td>\n",
       "      <td>1994-11-19</td>\n",
       "      <td>tara@sample.com</td>\n",
       "      <td>72000</td>\n",
       "    </tr>\n",
       "    <tr>\n",
       "      <th>47</th>\n",
       "      <td>Ulysses</td>\n",
       "      <td>33</td>\n",
       "      <td>Male</td>\n",
       "      <td>1990-06-22</td>\n",
       "      <td>ulysses@example.com</td>\n",
       "      <td></td>\n",
       "    </tr>\n",
       "    <tr>\n",
       "      <th>48</th>\n",
       "      <td>Vivian</td>\n",
       "      <td>38</td>\n",
       "      <td>Female</td>\n",
       "      <td>1985-04-15</td>\n",
       "      <td>vivian@sample.com</td>\n",
       "      <td>87000</td>\n",
       "    </tr>\n",
       "    <tr>\n",
       "      <th>49</th>\n",
       "      <td>Will</td>\n",
       "      <td></td>\n",
       "      <td>Male</td>\n",
       "      <td>1984-11-28</td>\n",
       "      <td>will@example.com</td>\n",
       "      <td>88000</td>\n",
       "    </tr>\n",
       "    <tr>\n",
       "      <th>50</th>\n",
       "      <td>Xena</td>\n",
       "      <td>40</td>\n",
       "      <td>Female</td>\n",
       "      <td>1983-03-31</td>\n",
       "      <td>xena@example.com</td>\n",
       "      <td>91000</td>\n",
       "    </tr>\n",
       "    <tr>\n",
       "      <th>51</th>\n",
       "      <td>Yusuf</td>\n",
       "      <td>29</td>\n",
       "      <td>Male</td>\n",
       "      <td>1994-01-11</td>\n",
       "      <td>yusuf@sample.com</td>\n",
       "      <td>75000</td>\n",
       "    </tr>\n",
       "    <tr>\n",
       "      <th>52</th>\n",
       "      <td>Zara</td>\n",
       "      <td>31</td>\n",
       "      <td>Female</td>\n",
       "      <td>1992-08-05</td>\n",
       "      <td>zara@example.com</td>\n",
       "      <td>82000</td>\n",
       "    </tr>\n",
       "  </tbody>\n",
       "</table>\n",
       "</div>"
      ],
      "text/plain": [
       "         Name  Age   Gender  Date_of_Birth                   Email  Salary\n",
       "0       Alice   29   Female     1994-05-23       alice@example.com   70000\n",
       "1         Bob   34     Male     1989-01-15             bob@example   85000\n",
       "2     Charlie          Male     1988-03-22      charlie@sample.com   91000\n",
       "3       David   45     Male     1978-07-08       david@example.com        \n",
       "4         Eve   29   Female     1994-05-23         eve@example.com   72000\n",
       "5       Alice   29   Female     1994-05-23       alice@example.com   70000\n",
       "6       Frank   28     Male     1995-12-01        frank@sample.com   68000\n",
       "7       Grace   31   Female     1992-02-10       grace@example.com   85000\n",
       "8        Hank   34     Male                       hank@example.com   78000\n",
       "9      Isabel   42   Female     1981-10-30      isabel@example.com   95000\n",
       "10       John   36     Male     1987-04-12         john@sample.com   88000\n",
       "11       Kate        Female     1990-05-14        kate@example.com   82000\n",
       "12      Larry   40     Male     1983-11-21        larry@sample.com   92000\n",
       "13       Mona   38   Female     1985-07-19            mona@example   87000\n",
       "14       Nina   30   Female     1993-09-23        nina@example.com        \n",
       "15       Omar   35     Male     1988-02-25         omar@sample.com   81000\n",
       "16       Paul          Male     1986-10-11        paul@example.com   93000\n",
       "17     Quincy   37     Male     1986-05-30      quincy@example.com   86000\n",
       "18       Rita   33   Female     1990-08-15        rita@example.com   78000\n",
       "19        Sam   41     Male     1982-03-28         sam@example.com   89000\n",
       "20       Tina   29   Female     1994-12-04         tina@sample.com   73000\n",
       "21        Uma        Female     1991-06-17         uma@example.com   74000\n",
       "22      Vince   35     Male     1988-09-26        vince@sample.com        \n",
       "23      Wendy   32   Female     1991-11-11        wendy@sample.com   80000\n",
       "24     Xander   39     Male     1984-04-06      xander@example.com   88000\n",
       "25       Yara   28   Female     1995-01-21         yara@sample.com   67000\n",
       "26       Zane   44     Male     1979-08-13        zane@example.com   94000\n",
       "27        Amy   30   Female     1993-07-07         amy@example.com        \n",
       "28      Brian   33     Male     1990-02-18        brian@sample.com   85000\n",
       "29  Catherine   29   Female     1994-03-10   catherine@example.com   76000\n",
       "30      Derek   36     Male     1987-12-20        derek@sample.com   88000\n",
       "31       Ella   27   Female     1996-08-29        ella@example.com        \n",
       "32       Fred          Male     1985-06-06        fred@example.com   90000\n",
       "33       Gina   31   Female     1992-10-23         gina@sample.com   81000\n",
       "34      Harry   34     Male     1989-11-14       harry@example.com        \n",
       "35        Ivy   40   Female     1983-05-19          ivy@sample.com   93000\n",
       "36       Jack   38     Male     1985-09-09         jack@sample.com   88000\n",
       "37      Karen   32   Female     1991-02-27       karen@example.com   82000\n",
       "38        Leo   41     Male     1982-07-01         leo@example.com   91000\n",
       "39        Mia   28   Female     1995-03-16          mia@sample.com   68000\n",
       "40     Nathan   37     Male     1986-10-20      nathan@example.com        \n",
       "41     Olivia        Female     1990-12-14      olivia@example.com   85000\n",
       "42      Peter   45     Male     1978-11-02        peter@sample.com   92000\n",
       "43      Quinn   30   Female     1993-01-08       quinn@example.com        \n",
       "44     Rachel   35   Female     1988-05-25      rachel@example.com   83000\n",
       "45      Steve   43     Male     1980-07-04        steve@sample.com   95000\n",
       "46       Tara   29   Female     1994-11-19         tara@sample.com   72000\n",
       "47    Ulysses   33     Male     1990-06-22     ulysses@example.com        \n",
       "48     Vivian   38   Female     1985-04-15       vivian@sample.com   87000\n",
       "49       Will          Male     1984-11-28        will@example.com   88000\n",
       "50       Xena   40   Female     1983-03-31        xena@example.com   91000\n",
       "51      Yusuf   29     Male     1994-01-11        yusuf@sample.com   75000\n",
       "52       Zara   31   Female     1992-08-05        zara@example.com   82000"
      ]
     },
     "execution_count": 2,
     "metadata": {},
     "output_type": "execute_result"
    }
   ],
   "source": [
    "df = pd.read_excel(\"sample_data.xlsx\")\n",
    "df"
   ]
  },
  {
   "cell_type": "code",
   "execution_count": 3,
   "id": "d9ab09a1",
   "metadata": {},
   "outputs": [
    {
     "data": {
      "text/plain": [
       "(53, 6)"
      ]
     },
     "execution_count": 3,
     "metadata": {},
     "output_type": "execute_result"
    }
   ],
   "source": [
    "df.shape"
   ]
  },
  {
   "cell_type": "code",
   "execution_count": 4,
   "id": "147da313",
   "metadata": {},
   "outputs": [
    {
     "name": "stdout",
     "output_type": "stream",
     "text": [
      "<class 'pandas.core.frame.DataFrame'>\n",
      "RangeIndex: 53 entries, 0 to 52\n",
      "Data columns (total 6 columns):\n",
      " #   Column          Non-Null Count  Dtype \n",
      "---  ------          --------------  ----- \n",
      " 0   Name            53 non-null     object\n",
      " 1    Age            53 non-null     object\n",
      " 2    Gender         53 non-null     object\n",
      " 3    Date_of_Birth  53 non-null     object\n",
      " 4    Email          53 non-null     object\n",
      " 5    Salary         53 non-null     object\n",
      "dtypes: object(6)\n",
      "memory usage: 2.6+ KB\n"
     ]
    }
   ],
   "source": [
    "df.info()"
   ]
  },
  {
   "cell_type": "code",
   "execution_count": 5,
   "id": "726969f7",
   "metadata": {},
   "outputs": [
    {
     "data": {
      "text/plain": [
       "array(['Alice', 'Bob', 'Charlie', 'David', 'Eve', 'Frank', 'Grace',\n",
       "       'Hank', 'Isabel', 'John', 'Kate', 'Larry', 'Mona', 'Nina', 'Omar',\n",
       "       'Paul', 'Quincy', 'Rita', 'Sam', 'Tina', 'Uma', 'Vince', 'Wendy',\n",
       "       'Xander', 'Yara', 'Zane', 'Amy', 'Brian', 'Catherine', 'Derek',\n",
       "       'Ella', 'Fred', 'Gina', 'Harry', 'Ivy', 'Jack', 'Karen', 'Leo',\n",
       "       'Mia', 'Nathan', 'Olivia', 'Peter', 'Quinn', 'Rachel', 'Steve',\n",
       "       'Tara', 'Ulysses', 'Vivian', 'Will', 'Xena', 'Yusuf', 'Zara'],\n",
       "      dtype=object)"
      ]
     },
     "execution_count": 5,
     "metadata": {},
     "output_type": "execute_result"
    }
   ],
   "source": [
    "df[\"Name\"].unique()"
   ]
  },
  {
   "cell_type": "code",
   "execution_count": 6,
   "id": "e4d003fe",
   "metadata": {},
   "outputs": [
    {
     "data": {
      "text/plain": [
       "Index(['Name', ' Age', ' Gender', ' Date_of_Birth', ' Email', ' Salary'], dtype='object')"
      ]
     },
     "execution_count": 6,
     "metadata": {},
     "output_type": "execute_result"
    }
   ],
   "source": [
    "df.columns"
   ]
  },
  {
   "cell_type": "code",
   "execution_count": 7,
   "id": "b5137d46",
   "metadata": {},
   "outputs": [],
   "source": [
    "df.rename(columns={\" Age\":\"Age\", \" Salary\":\"Salary\", \" Gender\":\"Gender\", \" Date_of_Birth\":\"Date_of_Birth,\",\n",
    "                  \" Email\":\"Email\"},inplace=True)"
   ]
  },
  {
   "cell_type": "code",
   "execution_count": 8,
   "id": "019ed4c5",
   "metadata": {},
   "outputs": [],
   "source": [
    "df.rename(columns={\"Date_of_Birth,\":\"Date_of_Birth\"}, inplace=True)"
   ]
  },
  {
   "cell_type": "code",
   "execution_count": 9,
   "id": "efa13110",
   "metadata": {},
   "outputs": [
    {
     "data": {
      "text/plain": [
       "array([29, 34, ' ', 45, 28, 31, 42, 36, 40, 38, 30, 35, 37, 33, 41, 32,\n",
       "       39, 44, 27, 43], dtype=object)"
      ]
     },
     "execution_count": 9,
     "metadata": {},
     "output_type": "execute_result"
    }
   ],
   "source": [
    "df[\"Age\"].unique()"
   ]
  },
  {
   "cell_type": "code",
   "execution_count": 10,
   "id": "42df4ff1",
   "metadata": {},
   "outputs": [],
   "source": [
    "df.drop(df[df[\"Age\"] == \" \"].index, inplace=True)"
   ]
  },
  {
   "cell_type": "code",
   "execution_count": 11,
   "id": "363710d4",
   "metadata": {},
   "outputs": [
    {
     "data": {
      "text/plain": [
       "array([29, 34, 45, 28, 31, 42, 36, 40, 38, 30, 35, 37, 33, 41, 32, 39, 44,\n",
       "       27, 43], dtype=object)"
      ]
     },
     "execution_count": 11,
     "metadata": {},
     "output_type": "execute_result"
    }
   ],
   "source": [
    "df[\"Age\"].unique()"
   ]
  },
  {
   "cell_type": "code",
   "execution_count": 12,
   "id": "4b381eac",
   "metadata": {},
   "outputs": [],
   "source": [
    "df[\"Age\"] = df[\"Age\"].astype(int)"
   ]
  },
  {
   "cell_type": "code",
   "execution_count": 13,
   "id": "804757b8",
   "metadata": {},
   "outputs": [
    {
     "name": "stdout",
     "output_type": "stream",
     "text": [
      "<class 'pandas.core.frame.DataFrame'>\n",
      "Index: 46 entries, 0 to 52\n",
      "Data columns (total 6 columns):\n",
      " #   Column         Non-Null Count  Dtype \n",
      "---  ------         --------------  ----- \n",
      " 0   Name           46 non-null     object\n",
      " 1   Age            46 non-null     int32 \n",
      " 2   Gender         46 non-null     object\n",
      " 3   Date_of_Birth  46 non-null     object\n",
      " 4   Email          46 non-null     object\n",
      " 5   Salary         46 non-null     object\n",
      "dtypes: int32(1), object(5)\n",
      "memory usage: 2.3+ KB\n"
     ]
    }
   ],
   "source": [
    "df.info()"
   ]
  },
  {
   "cell_type": "code",
   "execution_count": 14,
   "id": "d3387408",
   "metadata": {},
   "outputs": [
    {
     "data": {
      "text/plain": [
       "array([70000, 85000, ' ', 72000, 68000, 78000, 95000, 88000, 92000, 87000,\n",
       "       81000, 86000, 89000, 73000, 80000, 67000, 94000, 76000, 93000,\n",
       "       82000, 91000, 83000, 75000], dtype=object)"
      ]
     },
     "execution_count": 14,
     "metadata": {},
     "output_type": "execute_result"
    }
   ],
   "source": [
    "df[\"Salary\"].unique()"
   ]
  },
  {
   "cell_type": "code",
   "execution_count": 15,
   "id": "eef576b5",
   "metadata": {},
   "outputs": [],
   "source": [
    "df.drop(df[df[\"Salary\"] == \" \"].index, inplace=True)"
   ]
  },
  {
   "cell_type": "code",
   "execution_count": 16,
   "id": "1518033f",
   "metadata": {},
   "outputs": [
    {
     "data": {
      "text/plain": [
       "array([70000, 85000, 72000, 68000, 78000, 95000, 88000, 92000, 87000,\n",
       "       81000, 86000, 89000, 73000, 80000, 67000, 94000, 76000, 93000,\n",
       "       82000, 91000, 83000, 75000], dtype=object)"
      ]
     },
     "execution_count": 16,
     "metadata": {},
     "output_type": "execute_result"
    }
   ],
   "source": [
    "df[\"Salary\"].unique()"
   ]
  },
  {
   "cell_type": "code",
   "execution_count": 17,
   "id": "e76159fc",
   "metadata": {},
   "outputs": [],
   "source": [
    "df[\"Salary\"] = df[\"Salary\"].astype(int)"
   ]
  },
  {
   "cell_type": "code",
   "execution_count": 18,
   "id": "5646ef02",
   "metadata": {},
   "outputs": [
    {
     "name": "stdout",
     "output_type": "stream",
     "text": [
      "<class 'pandas.core.frame.DataFrame'>\n",
      "Index: 37 entries, 0 to 52\n",
      "Data columns (total 6 columns):\n",
      " #   Column         Non-Null Count  Dtype \n",
      "---  ------         --------------  ----- \n",
      " 0   Name           37 non-null     object\n",
      " 1   Age            37 non-null     int32 \n",
      " 2   Gender         37 non-null     object\n",
      " 3   Date_of_Birth  37 non-null     object\n",
      " 4   Email          37 non-null     object\n",
      " 5   Salary         37 non-null     int32 \n",
      "dtypes: int32(2), object(4)\n",
      "memory usage: 1.7+ KB\n"
     ]
    }
   ],
   "source": [
    "df.info()"
   ]
  },
  {
   "cell_type": "code",
   "execution_count": 19,
   "id": "0c7255cc",
   "metadata": {},
   "outputs": [
    {
     "ename": "TypeError",
     "evalue": "'set' object is not callable",
     "output_type": "error",
     "traceback": [
      "\u001b[1;31m---------------------------------------------------------------------------\u001b[0m",
      "\u001b[1;31mTypeError\u001b[0m                                 Traceback (most recent call last)",
      "Cell \u001b[1;32mIn[19], line 1\u001b[0m\n\u001b[1;32m----> 1\u001b[0m df\u001b[38;5;241m.\u001b[39mrename(columns\u001b[38;5;241m=\u001b[39m{\u001b[38;5;124m\"\u001b[39m\u001b[38;5;124m\"\u001b[39m})\n",
      "File \u001b[1;32m~\\anaconda3\\Lib\\site-packages\\pandas\\core\\frame.py:5432\u001b[0m, in \u001b[0;36mDataFrame.rename\u001b[1;34m(self, mapper, index, columns, axis, copy, inplace, level, errors)\u001b[0m\n\u001b[0;32m   5313\u001b[0m \u001b[38;5;28;01mdef\u001b[39;00m \u001b[38;5;21mrename\u001b[39m(\n\u001b[0;32m   5314\u001b[0m     \u001b[38;5;28mself\u001b[39m,\n\u001b[0;32m   5315\u001b[0m     mapper: Renamer \u001b[38;5;241m|\u001b[39m \u001b[38;5;28;01mNone\u001b[39;00m \u001b[38;5;241m=\u001b[39m \u001b[38;5;28;01mNone\u001b[39;00m,\n\u001b[1;32m   (...)\u001b[0m\n\u001b[0;32m   5323\u001b[0m     errors: IgnoreRaise \u001b[38;5;241m=\u001b[39m \u001b[38;5;124m\"\u001b[39m\u001b[38;5;124mignore\u001b[39m\u001b[38;5;124m\"\u001b[39m,\n\u001b[0;32m   5324\u001b[0m ) \u001b[38;5;241m-\u001b[39m\u001b[38;5;241m>\u001b[39m DataFrame \u001b[38;5;241m|\u001b[39m \u001b[38;5;28;01mNone\u001b[39;00m:\n\u001b[0;32m   5325\u001b[0m \u001b[38;5;250m    \u001b[39m\u001b[38;5;124;03m\"\"\"\u001b[39;00m\n\u001b[0;32m   5326\u001b[0m \u001b[38;5;124;03m    Rename columns or index labels.\u001b[39;00m\n\u001b[0;32m   5327\u001b[0m \n\u001b[1;32m   (...)\u001b[0m\n\u001b[0;32m   5430\u001b[0m \u001b[38;5;124;03m    4  3  6\u001b[39;00m\n\u001b[0;32m   5431\u001b[0m \u001b[38;5;124;03m    \"\"\"\u001b[39;00m\n\u001b[1;32m-> 5432\u001b[0m     \u001b[38;5;28;01mreturn\u001b[39;00m \u001b[38;5;28msuper\u001b[39m()\u001b[38;5;241m.\u001b[39m_rename(\n\u001b[0;32m   5433\u001b[0m         mapper\u001b[38;5;241m=\u001b[39mmapper,\n\u001b[0;32m   5434\u001b[0m         index\u001b[38;5;241m=\u001b[39mindex,\n\u001b[0;32m   5435\u001b[0m         columns\u001b[38;5;241m=\u001b[39mcolumns,\n\u001b[0;32m   5436\u001b[0m         axis\u001b[38;5;241m=\u001b[39maxis,\n\u001b[0;32m   5437\u001b[0m         copy\u001b[38;5;241m=\u001b[39mcopy,\n\u001b[0;32m   5438\u001b[0m         inplace\u001b[38;5;241m=\u001b[39minplace,\n\u001b[0;32m   5439\u001b[0m         level\u001b[38;5;241m=\u001b[39mlevel,\n\u001b[0;32m   5440\u001b[0m         errors\u001b[38;5;241m=\u001b[39merrors,\n\u001b[0;32m   5441\u001b[0m     )\n",
      "File \u001b[1;32m~\\anaconda3\\Lib\\site-packages\\pandas\\core\\generic.py:1034\u001b[0m, in \u001b[0;36mNDFrame._rename\u001b[1;34m(self, mapper, index, columns, axis, copy, inplace, level, errors)\u001b[0m\n\u001b[0;32m   1027\u001b[0m         missing_labels \u001b[38;5;241m=\u001b[39m [\n\u001b[0;32m   1028\u001b[0m             label\n\u001b[0;32m   1029\u001b[0m             \u001b[38;5;28;01mfor\u001b[39;00m index, label \u001b[38;5;129;01min\u001b[39;00m \u001b[38;5;28menumerate\u001b[39m(replacements)\n\u001b[0;32m   1030\u001b[0m             \u001b[38;5;28;01mif\u001b[39;00m indexer[index] \u001b[38;5;241m==\u001b[39m \u001b[38;5;241m-\u001b[39m\u001b[38;5;241m1\u001b[39m\n\u001b[0;32m   1031\u001b[0m         ]\n\u001b[0;32m   1032\u001b[0m         \u001b[38;5;28;01mraise\u001b[39;00m \u001b[38;5;167;01mKeyError\u001b[39;00m(\u001b[38;5;124mf\u001b[39m\u001b[38;5;124m\"\u001b[39m\u001b[38;5;132;01m{\u001b[39;00mmissing_labels\u001b[38;5;132;01m}\u001b[39;00m\u001b[38;5;124m not found in axis\u001b[39m\u001b[38;5;124m\"\u001b[39m)\n\u001b[1;32m-> 1034\u001b[0m new_index \u001b[38;5;241m=\u001b[39m ax\u001b[38;5;241m.\u001b[39m_transform_index(f, level\u001b[38;5;241m=\u001b[39mlevel)\n\u001b[0;32m   1035\u001b[0m result\u001b[38;5;241m.\u001b[39m_set_axis_nocheck(new_index, axis\u001b[38;5;241m=\u001b[39maxis_no, inplace\u001b[38;5;241m=\u001b[39m\u001b[38;5;28;01mTrue\u001b[39;00m, copy\u001b[38;5;241m=\u001b[39m\u001b[38;5;28;01mFalse\u001b[39;00m)\n\u001b[0;32m   1036\u001b[0m result\u001b[38;5;241m.\u001b[39m_clear_item_cache()\n",
      "File \u001b[1;32m~\\anaconda3\\Lib\\site-packages\\pandas\\core\\indexes\\base.py:6207\u001b[0m, in \u001b[0;36mIndex._transform_index\u001b[1;34m(self, func, level)\u001b[0m\n\u001b[0;32m   6205\u001b[0m     \u001b[38;5;28;01mreturn\u001b[39;00m \u001b[38;5;28mtype\u001b[39m(\u001b[38;5;28mself\u001b[39m)\u001b[38;5;241m.\u001b[39mfrom_arrays(values)\n\u001b[0;32m   6206\u001b[0m \u001b[38;5;28;01melse\u001b[39;00m:\n\u001b[1;32m-> 6207\u001b[0m     items \u001b[38;5;241m=\u001b[39m [func(x) \u001b[38;5;28;01mfor\u001b[39;00m x \u001b[38;5;129;01min\u001b[39;00m \u001b[38;5;28mself\u001b[39m]\n\u001b[0;32m   6208\u001b[0m     \u001b[38;5;28;01mreturn\u001b[39;00m Index(items, name\u001b[38;5;241m=\u001b[39m\u001b[38;5;28mself\u001b[39m\u001b[38;5;241m.\u001b[39mname, tupleize_cols\u001b[38;5;241m=\u001b[39m\u001b[38;5;28;01mFalse\u001b[39;00m)\n",
      "File \u001b[1;32m~\\anaconda3\\Lib\\site-packages\\pandas\\core\\indexes\\base.py:6207\u001b[0m, in \u001b[0;36m<listcomp>\u001b[1;34m(.0)\u001b[0m\n\u001b[0;32m   6205\u001b[0m     \u001b[38;5;28;01mreturn\u001b[39;00m \u001b[38;5;28mtype\u001b[39m(\u001b[38;5;28mself\u001b[39m)\u001b[38;5;241m.\u001b[39mfrom_arrays(values)\n\u001b[0;32m   6206\u001b[0m \u001b[38;5;28;01melse\u001b[39;00m:\n\u001b[1;32m-> 6207\u001b[0m     items \u001b[38;5;241m=\u001b[39m [func(x) \u001b[38;5;28;01mfor\u001b[39;00m x \u001b[38;5;129;01min\u001b[39;00m \u001b[38;5;28mself\u001b[39m]\n\u001b[0;32m   6208\u001b[0m     \u001b[38;5;28;01mreturn\u001b[39;00m Index(items, name\u001b[38;5;241m=\u001b[39m\u001b[38;5;28mself\u001b[39m\u001b[38;5;241m.\u001b[39mname, tupleize_cols\u001b[38;5;241m=\u001b[39m\u001b[38;5;28;01mFalse\u001b[39;00m)\n",
      "\u001b[1;31mTypeError\u001b[0m: 'set' object is not callable"
     ]
    }
   ],
   "source": [
    "df.rename(columns={\"\"})"
   ]
  },
  {
   "cell_type": "code",
   "execution_count": null,
   "id": "9b219ca3",
   "metadata": {},
   "outputs": [],
   "source": [
    "df[\"Gender\"].unique()"
   ]
  },
  {
   "cell_type": "code",
   "execution_count": null,
   "id": "97f390dc",
   "metadata": {},
   "outputs": [],
   "source": [
    "df[\"Date_of_Birth\"].unique()"
   ]
  },
  {
   "cell_type": "code",
   "execution_count": null,
   "id": "0a5d3289",
   "metadata": {},
   "outputs": [],
   "source": []
  },
  {
   "cell_type": "code",
   "execution_count": null,
   "id": "fa9c5a90",
   "metadata": {},
   "outputs": [],
   "source": [
    "df.drop(df[df[\"Date_of_Birth\"]==\" \"].index,inplace=True)"
   ]
  },
  {
   "cell_type": "code",
   "execution_count": null,
   "id": "ef1193f7",
   "metadata": {},
   "outputs": [],
   "source": [
    "df[\"Email\"].unique()"
   ]
  },
  {
   "cell_type": "code",
   "execution_count": null,
   "id": "6674a455",
   "metadata": {},
   "outputs": [],
   "source": [
    "df"
   ]
  },
  {
   "cell_type": "code",
   "execution_count": null,
   "id": "df2a316e",
   "metadata": {},
   "outputs": [],
   "source": [
    "df.to_excel(\"cleaned_data.xlsx\")"
   ]
  },
  {
   "cell_type": "code",
   "execution_count": null,
   "id": "6c6a4926",
   "metadata": {},
   "outputs": [],
   "source": []
  },
  {
   "cell_type": "code",
   "execution_count": null,
   "id": "327eaf2c",
   "metadata": {},
   "outputs": [],
   "source": []
  },
  {
   "cell_type": "code",
   "execution_count": null,
   "id": "d5c2410b",
   "metadata": {},
   "outputs": [],
   "source": []
  },
  {
   "cell_type": "code",
   "execution_count": null,
   "id": "f06ca9f5",
   "metadata": {},
   "outputs": [],
   "source": []
  },
  {
   "cell_type": "code",
   "execution_count": null,
   "id": "21e996fb",
   "metadata": {},
   "outputs": [],
   "source": []
  }
 ],
 "metadata": {
  "kernelspec": {
   "display_name": "Python 3 (ipykernel)",
   "language": "python",
   "name": "python3"
  },
  "language_info": {
   "codemirror_mode": {
    "name": "ipython",
    "version": 3
   },
   "file_extension": ".py",
   "mimetype": "text/x-python",
   "name": "python",
   "nbconvert_exporter": "python",
   "pygments_lexer": "ipython3",
   "version": "3.11.5"
  }
 },
 "nbformat": 4,
 "nbformat_minor": 5
}
